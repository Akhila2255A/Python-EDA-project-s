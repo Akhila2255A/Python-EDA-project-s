{
 "cells": [
  {
   "cell_type": "code",
   "execution_count": 63,
   "id": "be6b5a6d-0282-433c-aa17-a69aadbec4e1",
   "metadata": {},
   "outputs": [
    {
     "name": "stdout",
     "output_type": "stream",
     "text": [
      "Requirement already satisfied: pandas in c:\\users\\91988\\anaconda3\\lib\\site-packages (2.1.4)\n",
      "Requirement already satisfied: numpy<2,>=1.23.2 in c:\\users\\91988\\anaconda3\\lib\\site-packages (from pandas) (1.26.4)\n",
      "Requirement already satisfied: python-dateutil>=2.8.2 in c:\\users\\91988\\anaconda3\\lib\\site-packages (from pandas) (2.8.2)\n",
      "Requirement already satisfied: pytz>=2020.1 in c:\\users\\91988\\anaconda3\\lib\\site-packages (from pandas) (2023.3.post1)\n",
      "Requirement already satisfied: tzdata>=2022.1 in c:\\users\\91988\\anaconda3\\lib\\site-packages (from pandas) (2023.3)\n",
      "Requirement already satisfied: six>=1.5 in c:\\users\\91988\\anaconda3\\lib\\site-packages (from python-dateutil>=2.8.2->pandas) (1.16.0)\n"
     ]
    }
   ],
   "source": [
    "!pip install pandas"
   ]
  },
  {
   "cell_type": "code",
   "execution_count": 23,
   "id": "f739116c-b097-41dd-a5ce-cfa3d92af241",
   "metadata": {},
   "outputs": [],
   "source": [
    "import numpy as np\n",
    "import pandas as pd\n",
    "import matplotlib.pyplot as plt\n",
    "import seaborn as sns\n",
    "import warnings\n",
    "warnings.filterwarnings('ignore')"
   ]
  },
  {
   "cell_type": "code",
   "execution_count": 24,
   "id": "aae60854-5ddd-4a61-a661-7ecfabf7b263",
   "metadata": {},
   "outputs": [],
   "source": [
    "movie_set = pd.read_csv(r\"C:\\Users\\91988\\Downloads\\data scientist\\Movie_Analysis.csv\")"
   ]
  },
  {
   "cell_type": "code",
   "execution_count": 7,
   "id": "892564a5-c1be-41fa-a7c9-6ad68226f081",
   "metadata": {},
   "outputs": [
    {
     "data": {
      "text/html": [
       "<div>\n",
       "<style scoped>\n",
       "    .dataframe tbody tr th:only-of-type {\n",
       "        vertical-align: middle;\n",
       "    }\n",
       "\n",
       "    .dataframe tbody tr th {\n",
       "        vertical-align: top;\n",
       "    }\n",
       "\n",
       "    .dataframe thead th {\n",
       "        text-align: right;\n",
       "    }\n",
       "</style>\n",
       "<table border=\"1\" class=\"dataframe\">\n",
       "  <thead>\n",
       "    <tr style=\"text-align: right;\">\n",
       "      <th></th>\n",
       "      <th>Title</th>\n",
       "      <th>IMDb Rating</th>\n",
       "      <th>Year</th>\n",
       "      <th>Certificates</th>\n",
       "      <th>Genre</th>\n",
       "      <th>Director</th>\n",
       "      <th>Star Cast</th>\n",
       "      <th>MetaScore</th>\n",
       "      <th>Poster-src</th>\n",
       "      <th>Duration (minutes)</th>\n",
       "    </tr>\n",
       "  </thead>\n",
       "  <tbody>\n",
       "    <tr>\n",
       "      <th>0</th>\n",
       "      <td>End of the Spear</td>\n",
       "      <td>6.8</td>\n",
       "      <td>2005</td>\n",
       "      <td>PG-13</td>\n",
       "      <td>Adventure</td>\n",
       "      <td>Jim Hanon</td>\n",
       "      <td>Louie LeonardoChad AllenJack Guzman</td>\n",
       "      <td>45.0</td>\n",
       "      <td>https://m.media-amazon.com/images/M/MV5BMTYxOT...</td>\n",
       "      <td>108.0</td>\n",
       "    </tr>\n",
       "    <tr>\n",
       "      <th>1</th>\n",
       "      <td>Elvira Madigan</td>\n",
       "      <td>7.0</td>\n",
       "      <td>1967</td>\n",
       "      <td>PG</td>\n",
       "      <td>Biography</td>\n",
       "      <td>Bo Widerberg</td>\n",
       "      <td>Pia DegermarkThommy BerggrenLennart Malmer</td>\n",
       "      <td>66.0</td>\n",
       "      <td>https://m.media-amazon.com/images/M/MV5BMmY2Nj...</td>\n",
       "      <td>91.0</td>\n",
       "    </tr>\n",
       "    <tr>\n",
       "      <th>2</th>\n",
       "      <td>The Kid Stays in the Picture</td>\n",
       "      <td>7.3</td>\n",
       "      <td>2002</td>\n",
       "      <td>R</td>\n",
       "      <td>Documentary</td>\n",
       "      <td>Nanette Burstein</td>\n",
       "      <td>Robert EvansEddie AlbertPeter Bart</td>\n",
       "      <td>75.0</td>\n",
       "      <td>https://m.media-amazon.com/images/M/MV5BZjhiZm...</td>\n",
       "      <td>93.0</td>\n",
       "    </tr>\n",
       "    <tr>\n",
       "      <th>3</th>\n",
       "      <td>It Ain't Over</td>\n",
       "      <td>8.2</td>\n",
       "      <td>2022</td>\n",
       "      <td>PG</td>\n",
       "      <td>Documentary</td>\n",
       "      <td>Sean Mullin</td>\n",
       "      <td>Andy AndresRoger AngellMarty Appel</td>\n",
       "      <td>79.0</td>\n",
       "      <td>https://m.media-amazon.com/images/M/MV5BZWViYW...</td>\n",
       "      <td>99.0</td>\n",
       "    </tr>\n",
       "    <tr>\n",
       "      <th>4</th>\n",
       "      <td>Mahler</td>\n",
       "      <td>7.0</td>\n",
       "      <td>1974</td>\n",
       "      <td>PG</td>\n",
       "      <td>Biography</td>\n",
       "      <td>Ken Russell</td>\n",
       "      <td>Robert PowellGeorgina HaleLee Montague</td>\n",
       "      <td>66.0</td>\n",
       "      <td>https://m.media-amazon.com/images/M/MV5BYzY4Mz...</td>\n",
       "      <td>115.0</td>\n",
       "    </tr>\n",
       "  </tbody>\n",
       "</table>\n",
       "</div>"
      ],
      "text/plain": [
       "                          Title  IMDb Rating  Year Certificates        Genre  \\\n",
       "0              End of the Spear          6.8  2005        PG-13    Adventure   \n",
       "1                Elvira Madigan          7.0  1967           PG    Biography   \n",
       "2  The Kid Stays in the Picture          7.3  2002            R  Documentary   \n",
       "3                 It Ain't Over          8.2  2022           PG  Documentary   \n",
       "4                        Mahler          7.0  1974           PG    Biography   \n",
       "\n",
       "           Director                                   Star Cast  MetaScore  \\\n",
       "0         Jim Hanon         Louie LeonardoChad AllenJack Guzman       45.0   \n",
       "1      Bo Widerberg  Pia DegermarkThommy BerggrenLennart Malmer       66.0   \n",
       "2  Nanette Burstein          Robert EvansEddie AlbertPeter Bart       75.0   \n",
       "3       Sean Mullin          Andy AndresRoger AngellMarty Appel       79.0   \n",
       "4       Ken Russell      Robert PowellGeorgina HaleLee Montague       66.0   \n",
       "\n",
       "                                          Poster-src  Duration (minutes)  \n",
       "0  https://m.media-amazon.com/images/M/MV5BMTYxOT...               108.0  \n",
       "1  https://m.media-amazon.com/images/M/MV5BMmY2Nj...                91.0  \n",
       "2  https://m.media-amazon.com/images/M/MV5BZjhiZm...                93.0  \n",
       "3  https://m.media-amazon.com/images/M/MV5BZWViYW...                99.0  \n",
       "4  https://m.media-amazon.com/images/M/MV5BYzY4Mz...               115.0  "
      ]
     },
     "execution_count": 7,
     "metadata": {},
     "output_type": "execute_result"
    }
   ],
   "source": [
    "movie_set.head()"
   ]
  },
  {
   "cell_type": "code",
   "execution_count": 8,
   "id": "079a00fd-d5a2-4bf6-b573-4eb1f2b07b51",
   "metadata": {},
   "outputs": [
    {
     "data": {
      "text/html": [
       "<div>\n",
       "<style scoped>\n",
       "    .dataframe tbody tr th:only-of-type {\n",
       "        vertical-align: middle;\n",
       "    }\n",
       "\n",
       "    .dataframe tbody tr th {\n",
       "        vertical-align: top;\n",
       "    }\n",
       "\n",
       "    .dataframe thead th {\n",
       "        text-align: right;\n",
       "    }\n",
       "</style>\n",
       "<table border=\"1\" class=\"dataframe\">\n",
       "  <thead>\n",
       "    <tr style=\"text-align: right;\">\n",
       "      <th></th>\n",
       "      <th>Title</th>\n",
       "      <th>IMDb Rating</th>\n",
       "      <th>Year</th>\n",
       "      <th>Certificates</th>\n",
       "      <th>Genre</th>\n",
       "      <th>Director</th>\n",
       "      <th>Star Cast</th>\n",
       "      <th>MetaScore</th>\n",
       "      <th>Poster-src</th>\n",
       "      <th>Duration (minutes)</th>\n",
       "    </tr>\n",
       "  </thead>\n",
       "  <tbody>\n",
       "    <tr>\n",
       "      <th>3168</th>\n",
       "      <td>The Lord of the Rings: The Return of the King</td>\n",
       "      <td>9.0</td>\n",
       "      <td>2003</td>\n",
       "      <td>PG-13</td>\n",
       "      <td>Action</td>\n",
       "      <td>Peter Jackson</td>\n",
       "      <td>J.R.R. TolkienFran WalshPhilippa Boyens</td>\n",
       "      <td>94.0</td>\n",
       "      <td>https://m.media-amazon.com/images/M/MV5BNzA5ZD...</td>\n",
       "      <td>201.0</td>\n",
       "    </tr>\n",
       "    <tr>\n",
       "      <th>3169</th>\n",
       "      <td>Schindler's List</td>\n",
       "      <td>9.0</td>\n",
       "      <td>1993</td>\n",
       "      <td>R</td>\n",
       "      <td>Biography</td>\n",
       "      <td>Steven Spielberg</td>\n",
       "      <td>Liam NeesonRalph FiennesBen Kingsley</td>\n",
       "      <td>95.0</td>\n",
       "      <td>https://m.media-amazon.com/images/M/MV5BNDE4OT...</td>\n",
       "      <td>195.0</td>\n",
       "    </tr>\n",
       "    <tr>\n",
       "      <th>3170</th>\n",
       "      <td>The Dark Knight</td>\n",
       "      <td>9.0</td>\n",
       "      <td>2008</td>\n",
       "      <td>PG-13</td>\n",
       "      <td>Action</td>\n",
       "      <td>Christopher Nolan</td>\n",
       "      <td>Jonathan NolanChristopher NolanDavid S. Goyer</td>\n",
       "      <td>84.0</td>\n",
       "      <td>https://m.media-amazon.com/images/M/MV5BMTMxNT...</td>\n",
       "      <td>152.0</td>\n",
       "    </tr>\n",
       "    <tr>\n",
       "      <th>3171</th>\n",
       "      <td>The Godfather</td>\n",
       "      <td>9.2</td>\n",
       "      <td>1972</td>\n",
       "      <td>R</td>\n",
       "      <td>Crime</td>\n",
       "      <td>Francis Ford Coppola</td>\n",
       "      <td>Mario PuzoFrancis Ford Coppola</td>\n",
       "      <td>100.0</td>\n",
       "      <td>https://m.media-amazon.com/images/M/MV5BM2MyNj...</td>\n",
       "      <td>175.0</td>\n",
       "    </tr>\n",
       "    <tr>\n",
       "      <th>3172</th>\n",
       "      <td>The Shawshank Redemption</td>\n",
       "      <td>9.3</td>\n",
       "      <td>1994</td>\n",
       "      <td>R</td>\n",
       "      <td>Drama</td>\n",
       "      <td>Frank Darabont</td>\n",
       "      <td>Tim RobbinsMorgan FreemanBob Gunton</td>\n",
       "      <td>82.0</td>\n",
       "      <td>https://m.media-amazon.com/images/M/MV5BNDE3OD...</td>\n",
       "      <td>142.0</td>\n",
       "    </tr>\n",
       "  </tbody>\n",
       "</table>\n",
       "</div>"
      ],
      "text/plain": [
       "                                              Title  IMDb Rating  Year  \\\n",
       "3168  The Lord of the Rings: The Return of the King          9.0  2003   \n",
       "3169                               Schindler's List          9.0  1993   \n",
       "3170                                The Dark Knight          9.0  2008   \n",
       "3171                                  The Godfather          9.2  1972   \n",
       "3172                       The Shawshank Redemption          9.3  1994   \n",
       "\n",
       "     Certificates      Genre              Director  \\\n",
       "3168        PG-13     Action         Peter Jackson   \n",
       "3169            R  Biography      Steven Spielberg   \n",
       "3170        PG-13     Action     Christopher Nolan   \n",
       "3171            R      Crime  Francis Ford Coppola   \n",
       "3172            R      Drama        Frank Darabont   \n",
       "\n",
       "                                          Star Cast  MetaScore  \\\n",
       "3168        J.R.R. TolkienFran WalshPhilippa Boyens       94.0   \n",
       "3169           Liam NeesonRalph FiennesBen Kingsley       95.0   \n",
       "3170  Jonathan NolanChristopher NolanDavid S. Goyer       84.0   \n",
       "3171                 Mario PuzoFrancis Ford Coppola      100.0   \n",
       "3172            Tim RobbinsMorgan FreemanBob Gunton       82.0   \n",
       "\n",
       "                                             Poster-src  Duration (minutes)  \n",
       "3168  https://m.media-amazon.com/images/M/MV5BNzA5ZD...               201.0  \n",
       "3169  https://m.media-amazon.com/images/M/MV5BNDE4OT...               195.0  \n",
       "3170  https://m.media-amazon.com/images/M/MV5BMTMxNT...               152.0  \n",
       "3171  https://m.media-amazon.com/images/M/MV5BM2MyNj...               175.0  \n",
       "3172  https://m.media-amazon.com/images/M/MV5BNDE3OD...               142.0  "
      ]
     },
     "execution_count": 8,
     "metadata": {},
     "output_type": "execute_result"
    }
   ],
   "source": [
    "movie_set.tail(5)"
   ]
  },
  {
   "cell_type": "code",
   "execution_count": 9,
   "id": "5728b50c-a623-455a-a9d8-d3021f4bcf9b",
   "metadata": {},
   "outputs": [
    {
     "data": {
      "text/html": [
       "<div>\n",
       "<style scoped>\n",
       "    .dataframe tbody tr th:only-of-type {\n",
       "        vertical-align: middle;\n",
       "    }\n",
       "\n",
       "    .dataframe tbody tr th {\n",
       "        vertical-align: top;\n",
       "    }\n",
       "\n",
       "    .dataframe thead th {\n",
       "        text-align: right;\n",
       "    }\n",
       "</style>\n",
       "<table border=\"1\" class=\"dataframe\">\n",
       "  <thead>\n",
       "    <tr style=\"text-align: right;\">\n",
       "      <th></th>\n",
       "      <th>IMDb Rating</th>\n",
       "      <th>Year</th>\n",
       "      <th>MetaScore</th>\n",
       "      <th>Duration (minutes)</th>\n",
       "    </tr>\n",
       "  </thead>\n",
       "  <tbody>\n",
       "    <tr>\n",
       "      <th>count</th>\n",
       "      <td>3173.000000</td>\n",
       "      <td>3173.000000</td>\n",
       "      <td>3173.000000</td>\n",
       "      <td>3173.000000</td>\n",
       "    </tr>\n",
       "    <tr>\n",
       "      <th>mean</th>\n",
       "      <td>6.931012</td>\n",
       "      <td>2004.958399</td>\n",
       "      <td>65.993066</td>\n",
       "      <td>116.304822</td>\n",
       "    </tr>\n",
       "    <tr>\n",
       "      <th>std</th>\n",
       "      <td>0.805202</td>\n",
       "      <td>16.819985</td>\n",
       "      <td>11.358619</td>\n",
       "      <td>22.123032</td>\n",
       "    </tr>\n",
       "    <tr>\n",
       "      <th>min</th>\n",
       "      <td>3.900000</td>\n",
       "      <td>1917.000000</td>\n",
       "      <td>20.000000</td>\n",
       "      <td>46.000000</td>\n",
       "    </tr>\n",
       "    <tr>\n",
       "      <th>25%</th>\n",
       "      <td>6.400000</td>\n",
       "      <td>1997.000000</td>\n",
       "      <td>64.000000</td>\n",
       "      <td>105.000000</td>\n",
       "    </tr>\n",
       "    <tr>\n",
       "      <th>50%</th>\n",
       "      <td>6.900000</td>\n",
       "      <td>2010.000000</td>\n",
       "      <td>66.000000</td>\n",
       "      <td>116.300000</td>\n",
       "    </tr>\n",
       "    <tr>\n",
       "      <th>75%</th>\n",
       "      <td>7.500000</td>\n",
       "      <td>2017.000000</td>\n",
       "      <td>69.000000</td>\n",
       "      <td>122.000000</td>\n",
       "    </tr>\n",
       "    <tr>\n",
       "      <th>max</th>\n",
       "      <td>9.500000</td>\n",
       "      <td>2025.000000</td>\n",
       "      <td>100.000000</td>\n",
       "      <td>317.000000</td>\n",
       "    </tr>\n",
       "  </tbody>\n",
       "</table>\n",
       "</div>"
      ],
      "text/plain": [
       "       IMDb Rating         Year    MetaScore  Duration (minutes)\n",
       "count  3173.000000  3173.000000  3173.000000         3173.000000\n",
       "mean      6.931012  2004.958399    65.993066          116.304822\n",
       "std       0.805202    16.819985    11.358619           22.123032\n",
       "min       3.900000  1917.000000    20.000000           46.000000\n",
       "25%       6.400000  1997.000000    64.000000          105.000000\n",
       "50%       6.900000  2010.000000    66.000000          116.300000\n",
       "75%       7.500000  2017.000000    69.000000          122.000000\n",
       "max       9.500000  2025.000000   100.000000          317.000000"
      ]
     },
     "execution_count": 9,
     "metadata": {},
     "output_type": "execute_result"
    }
   ],
   "source": [
    "movie_set.describe()"
   ]
  },
  {
   "cell_type": "code",
   "execution_count": 10,
   "id": "05b6b716-b8de-4636-86de-3457962aa53e",
   "metadata": {},
   "outputs": [
    {
     "name": "stdout",
     "output_type": "stream",
     "text": [
      "<class 'pandas.core.frame.DataFrame'>\n",
      "RangeIndex: 3173 entries, 0 to 3172\n",
      "Data columns (total 10 columns):\n",
      " #   Column              Non-Null Count  Dtype  \n",
      "---  ------              --------------  -----  \n",
      " 0   Title               3173 non-null   object \n",
      " 1   IMDb Rating         3173 non-null   float64\n",
      " 2   Year                3173 non-null   int64  \n",
      " 3   Certificates        3173 non-null   object \n",
      " 4   Genre               3173 non-null   object \n",
      " 5   Director            3173 non-null   object \n",
      " 6   Star Cast           3173 non-null   object \n",
      " 7   MetaScore           3173 non-null   float64\n",
      " 8   Poster-src          3173 non-null   object \n",
      " 9   Duration (minutes)  3173 non-null   float64\n",
      "dtypes: float64(3), int64(1), object(6)\n",
      "memory usage: 248.0+ KB\n"
     ]
    }
   ],
   "source": [
    "movie_set.info()"
   ]
  },
  {
   "cell_type": "code",
   "execution_count": 12,
   "id": "79f500e8-1a62-43d6-922a-ebe79930938d",
   "metadata": {},
   "outputs": [
    {
     "data": {
      "text/plain": [
       "(3173, 10)"
      ]
     },
     "execution_count": 12,
     "metadata": {},
     "output_type": "execute_result"
    }
   ],
   "source": [
    "movie_set.shape"
   ]
  },
  {
   "cell_type": "code",
   "execution_count": 13,
   "id": "0bd2e731-3979-48dd-9ccd-07a0504716e8",
   "metadata": {},
   "outputs": [
    {
     "data": {
      "text/plain": [
       "3173"
      ]
     },
     "execution_count": 13,
     "metadata": {},
     "output_type": "execute_result"
    }
   ],
   "source": [
    "movie_set.shape[0]"
   ]
  },
  {
   "cell_type": "code",
   "execution_count": 14,
   "id": "41b5e093-c78b-438d-8bde-1c89333e1e0a",
   "metadata": {},
   "outputs": [
    {
     "data": {
      "text/plain": [
       "10"
      ]
     },
     "execution_count": 14,
     "metadata": {},
     "output_type": "execute_result"
    }
   ],
   "source": [
    "movie_set.shape[1]"
   ]
  },
  {
   "cell_type": "code",
   "execution_count": 16,
   "id": "48d15470-d0f9-457b-b859-13245896d3ba",
   "metadata": {},
   "outputs": [
    {
     "data": {
      "text/plain": [
       "RangeIndex(start=0, stop=3173, step=1)"
      ]
     },
     "execution_count": 16,
     "metadata": {},
     "output_type": "execute_result"
    }
   ],
   "source": [
    "movie_set.index"
   ]
  },
  {
   "cell_type": "code",
   "execution_count": 18,
   "id": "eecd9344-64eb-4e83-8f95-6194bb0d05d1",
   "metadata": {},
   "outputs": [
    {
     "data": {
      "text/plain": [
       "Index(['Title', 'IMDb Rating', 'Year', 'Certificates', 'Genre', 'Director',\n",
       "       'Star Cast', 'MetaScore', 'Poster-src', 'Duration (minutes)'],\n",
       "      dtype='object')"
      ]
     },
     "execution_count": 18,
     "metadata": {},
     "output_type": "execute_result"
    }
   ],
   "source": [
    "movie_set.columns"
   ]
  },
  {
   "cell_type": "code",
   "execution_count": 21,
   "id": "f4bff7eb-065f-4c92-b99e-9e1fa59a1605",
   "metadata": {},
   "outputs": [
    {
     "data": {
      "text/plain": [
       "Title                  object\n",
       "IMDb Rating           float64\n",
       "Year                    int64\n",
       "Certificates           object\n",
       "Genre                  object\n",
       "Director               object\n",
       "Star Cast              object\n",
       "MetaScore             float64\n",
       "Poster-src             object\n",
       "Duration (minutes)    float64\n",
       "dtype: object"
      ]
     },
     "execution_count": 21,
     "metadata": {},
     "output_type": "execute_result"
    }
   ],
   "source": [
    "movie_set.dtypes"
   ]
  },
  {
   "cell_type": "markdown",
   "id": "7606cda0-08a8-42b7-a3ee-7bba0235fd99",
   "metadata": {},
   "source": [
    "# Data Cleaning:"
   ]
  },
  {
   "cell_type": "code",
   "execution_count": 23,
   "id": "190db582-f550-436e-a264-118e2ecd6284",
   "metadata": {},
   "outputs": [
    {
     "data": {
      "text/html": [
       "<div>\n",
       "<style scoped>\n",
       "    .dataframe tbody tr th:only-of-type {\n",
       "        vertical-align: middle;\n",
       "    }\n",
       "\n",
       "    .dataframe tbody tr th {\n",
       "        vertical-align: top;\n",
       "    }\n",
       "\n",
       "    .dataframe thead th {\n",
       "        text-align: right;\n",
       "    }\n",
       "</style>\n",
       "<table border=\"1\" class=\"dataframe\">\n",
       "  <thead>\n",
       "    <tr style=\"text-align: right;\">\n",
       "      <th></th>\n",
       "      <th>Title</th>\n",
       "      <th>IMDb Rating</th>\n",
       "      <th>Year</th>\n",
       "      <th>Certificates</th>\n",
       "      <th>Genre</th>\n",
       "      <th>Director</th>\n",
       "      <th>Star Cast</th>\n",
       "      <th>MetaScore</th>\n",
       "      <th>Poster-src</th>\n",
       "      <th>Duration (minutes)</th>\n",
       "    </tr>\n",
       "  </thead>\n",
       "  <tbody>\n",
       "    <tr>\n",
       "      <th>0</th>\n",
       "      <td>False</td>\n",
       "      <td>False</td>\n",
       "      <td>False</td>\n",
       "      <td>False</td>\n",
       "      <td>False</td>\n",
       "      <td>False</td>\n",
       "      <td>False</td>\n",
       "      <td>False</td>\n",
       "      <td>False</td>\n",
       "      <td>False</td>\n",
       "    </tr>\n",
       "    <tr>\n",
       "      <th>1</th>\n",
       "      <td>False</td>\n",
       "      <td>False</td>\n",
       "      <td>False</td>\n",
       "      <td>False</td>\n",
       "      <td>False</td>\n",
       "      <td>False</td>\n",
       "      <td>False</td>\n",
       "      <td>False</td>\n",
       "      <td>False</td>\n",
       "      <td>False</td>\n",
       "    </tr>\n",
       "    <tr>\n",
       "      <th>2</th>\n",
       "      <td>False</td>\n",
       "      <td>False</td>\n",
       "      <td>False</td>\n",
       "      <td>False</td>\n",
       "      <td>False</td>\n",
       "      <td>False</td>\n",
       "      <td>False</td>\n",
       "      <td>False</td>\n",
       "      <td>False</td>\n",
       "      <td>False</td>\n",
       "    </tr>\n",
       "    <tr>\n",
       "      <th>3</th>\n",
       "      <td>False</td>\n",
       "      <td>False</td>\n",
       "      <td>False</td>\n",
       "      <td>False</td>\n",
       "      <td>False</td>\n",
       "      <td>False</td>\n",
       "      <td>False</td>\n",
       "      <td>False</td>\n",
       "      <td>False</td>\n",
       "      <td>False</td>\n",
       "    </tr>\n",
       "    <tr>\n",
       "      <th>4</th>\n",
       "      <td>False</td>\n",
       "      <td>False</td>\n",
       "      <td>False</td>\n",
       "      <td>False</td>\n",
       "      <td>False</td>\n",
       "      <td>False</td>\n",
       "      <td>False</td>\n",
       "      <td>False</td>\n",
       "      <td>False</td>\n",
       "      <td>False</td>\n",
       "    </tr>\n",
       "    <tr>\n",
       "      <th>...</th>\n",
       "      <td>...</td>\n",
       "      <td>...</td>\n",
       "      <td>...</td>\n",
       "      <td>...</td>\n",
       "      <td>...</td>\n",
       "      <td>...</td>\n",
       "      <td>...</td>\n",
       "      <td>...</td>\n",
       "      <td>...</td>\n",
       "      <td>...</td>\n",
       "    </tr>\n",
       "    <tr>\n",
       "      <th>3168</th>\n",
       "      <td>False</td>\n",
       "      <td>False</td>\n",
       "      <td>False</td>\n",
       "      <td>False</td>\n",
       "      <td>False</td>\n",
       "      <td>False</td>\n",
       "      <td>False</td>\n",
       "      <td>False</td>\n",
       "      <td>False</td>\n",
       "      <td>False</td>\n",
       "    </tr>\n",
       "    <tr>\n",
       "      <th>3169</th>\n",
       "      <td>False</td>\n",
       "      <td>False</td>\n",
       "      <td>False</td>\n",
       "      <td>False</td>\n",
       "      <td>False</td>\n",
       "      <td>False</td>\n",
       "      <td>False</td>\n",
       "      <td>False</td>\n",
       "      <td>False</td>\n",
       "      <td>False</td>\n",
       "    </tr>\n",
       "    <tr>\n",
       "      <th>3170</th>\n",
       "      <td>False</td>\n",
       "      <td>False</td>\n",
       "      <td>False</td>\n",
       "      <td>False</td>\n",
       "      <td>False</td>\n",
       "      <td>False</td>\n",
       "      <td>False</td>\n",
       "      <td>False</td>\n",
       "      <td>False</td>\n",
       "      <td>False</td>\n",
       "    </tr>\n",
       "    <tr>\n",
       "      <th>3171</th>\n",
       "      <td>False</td>\n",
       "      <td>False</td>\n",
       "      <td>False</td>\n",
       "      <td>False</td>\n",
       "      <td>False</td>\n",
       "      <td>False</td>\n",
       "      <td>False</td>\n",
       "      <td>False</td>\n",
       "      <td>False</td>\n",
       "      <td>False</td>\n",
       "    </tr>\n",
       "    <tr>\n",
       "      <th>3172</th>\n",
       "      <td>False</td>\n",
       "      <td>False</td>\n",
       "      <td>False</td>\n",
       "      <td>False</td>\n",
       "      <td>False</td>\n",
       "      <td>False</td>\n",
       "      <td>False</td>\n",
       "      <td>False</td>\n",
       "      <td>False</td>\n",
       "      <td>False</td>\n",
       "    </tr>\n",
       "  </tbody>\n",
       "</table>\n",
       "<p>3173 rows × 10 columns</p>\n",
       "</div>"
      ],
      "text/plain": [
       "      Title  IMDb Rating   Year  Certificates  Genre  Director  Star Cast  \\\n",
       "0     False        False  False         False  False     False      False   \n",
       "1     False        False  False         False  False     False      False   \n",
       "2     False        False  False         False  False     False      False   \n",
       "3     False        False  False         False  False     False      False   \n",
       "4     False        False  False         False  False     False      False   \n",
       "...     ...          ...    ...           ...    ...       ...        ...   \n",
       "3168  False        False  False         False  False     False      False   \n",
       "3169  False        False  False         False  False     False      False   \n",
       "3170  False        False  False         False  False     False      False   \n",
       "3171  False        False  False         False  False     False      False   \n",
       "3172  False        False  False         False  False     False      False   \n",
       "\n",
       "      MetaScore  Poster-src  Duration (minutes)  \n",
       "0         False       False               False  \n",
       "1         False       False               False  \n",
       "2         False       False               False  \n",
       "3         False       False               False  \n",
       "4         False       False               False  \n",
       "...         ...         ...                 ...  \n",
       "3168      False       False               False  \n",
       "3169      False       False               False  \n",
       "3170      False       False               False  \n",
       "3171      False       False               False  \n",
       "3172      False       False               False  \n",
       "\n",
       "[3173 rows x 10 columns]"
      ]
     },
     "execution_count": 23,
     "metadata": {},
     "output_type": "execute_result"
    }
   ],
   "source": [
    "movie_set.isnull()"
   ]
  },
  {
   "cell_type": "code",
   "execution_count": 24,
   "id": "6466ef22-99f5-4bf4-9814-9ee013bc008c",
   "metadata": {},
   "outputs": [
    {
     "data": {
      "text/plain": [
       "Title                 0\n",
       "IMDb Rating           0\n",
       "Year                  0\n",
       "Certificates          0\n",
       "Genre                 0\n",
       "Director              0\n",
       "Star Cast             0\n",
       "MetaScore             0\n",
       "Poster-src            0\n",
       "Duration (minutes)    0\n",
       "dtype: int64"
      ]
     },
     "execution_count": 24,
     "metadata": {},
     "output_type": "execute_result"
    }
   ],
   "source": [
    "movie_set.isnull().sum()"
   ]
  },
  {
   "cell_type": "code",
   "execution_count": 25,
   "id": "17fdc67c-e06e-4381-87a8-14ab2ab27a09",
   "metadata": {},
   "outputs": [
    {
     "data": {
      "text/plain": [
       "Title                 False\n",
       "IMDb Rating           False\n",
       "Year                  False\n",
       "Certificates          False\n",
       "Genre                 False\n",
       "Director              False\n",
       "Star Cast             False\n",
       "MetaScore             False\n",
       "Poster-src            False\n",
       "Duration (minutes)    False\n",
       "dtype: bool"
      ]
     },
     "execution_count": 25,
     "metadata": {},
     "output_type": "execute_result"
    }
   ],
   "source": [
    "movie_set.isnull().any()"
   ]
  },
  {
   "cell_type": "code",
   "execution_count": 28,
   "id": "220d21aa-562f-4ab1-85f8-7a297d0efd35",
   "metadata": {},
   "outputs": [
    {
     "data": {
      "text/html": [
       "<div>\n",
       "<style scoped>\n",
       "    .dataframe tbody tr th:only-of-type {\n",
       "        vertical-align: middle;\n",
       "    }\n",
       "\n",
       "    .dataframe tbody tr th {\n",
       "        vertical-align: top;\n",
       "    }\n",
       "\n",
       "    .dataframe thead th {\n",
       "        text-align: right;\n",
       "    }\n",
       "</style>\n",
       "<table border=\"1\" class=\"dataframe\">\n",
       "  <thead>\n",
       "    <tr style=\"text-align: right;\">\n",
       "      <th></th>\n",
       "      <th>Title</th>\n",
       "      <th>IMDb Rating</th>\n",
       "      <th>Year</th>\n",
       "      <th>Certificates</th>\n",
       "      <th>Genre</th>\n",
       "      <th>Director</th>\n",
       "      <th>Star Cast</th>\n",
       "      <th>MetaScore</th>\n",
       "      <th>Duration (minutes)</th>\n",
       "    </tr>\n",
       "  </thead>\n",
       "  <tbody>\n",
       "    <tr>\n",
       "      <th>0</th>\n",
       "      <td>End of the Spear</td>\n",
       "      <td>6.8</td>\n",
       "      <td>2005</td>\n",
       "      <td>PG-13</td>\n",
       "      <td>Adventure</td>\n",
       "      <td>Jim Hanon</td>\n",
       "      <td>Louie LeonardoChad AllenJack Guzman</td>\n",
       "      <td>45.0</td>\n",
       "      <td>108.0</td>\n",
       "    </tr>\n",
       "    <tr>\n",
       "      <th>1</th>\n",
       "      <td>Elvira Madigan</td>\n",
       "      <td>7.0</td>\n",
       "      <td>1967</td>\n",
       "      <td>PG</td>\n",
       "      <td>Biography</td>\n",
       "      <td>Bo Widerberg</td>\n",
       "      <td>Pia DegermarkThommy BerggrenLennart Malmer</td>\n",
       "      <td>66.0</td>\n",
       "      <td>91.0</td>\n",
       "    </tr>\n",
       "    <tr>\n",
       "      <th>2</th>\n",
       "      <td>The Kid Stays in the Picture</td>\n",
       "      <td>7.3</td>\n",
       "      <td>2002</td>\n",
       "      <td>R</td>\n",
       "      <td>Documentary</td>\n",
       "      <td>Nanette Burstein</td>\n",
       "      <td>Robert EvansEddie AlbertPeter Bart</td>\n",
       "      <td>75.0</td>\n",
       "      <td>93.0</td>\n",
       "    </tr>\n",
       "  </tbody>\n",
       "</table>\n",
       "</div>"
      ],
      "text/plain": [
       "                          Title  IMDb Rating  Year Certificates        Genre  \\\n",
       "0              End of the Spear          6.8  2005        PG-13    Adventure   \n",
       "1                Elvira Madigan          7.0  1967           PG    Biography   \n",
       "2  The Kid Stays in the Picture          7.3  2002            R  Documentary   \n",
       "\n",
       "           Director                                   Star Cast  MetaScore  \\\n",
       "0         Jim Hanon         Louie LeonardoChad AllenJack Guzman       45.0   \n",
       "1      Bo Widerberg  Pia DegermarkThommy BerggrenLennart Malmer       66.0   \n",
       "2  Nanette Burstein          Robert EvansEddie AlbertPeter Bart       75.0   \n",
       "\n",
       "   Duration (minutes)  \n",
       "0               108.0  \n",
       "1                91.0  \n",
       "2                93.0  "
      ]
     },
     "execution_count": 28,
     "metadata": {},
     "output_type": "execute_result"
    }
   ],
   "source": [
    "movie_set.drop(columns = \"Poster-src\").head(3)"
   ]
  },
  {
   "cell_type": "markdown",
   "id": "1879954e-e55f-4e5f-8a25-3c8a6f0a8d22",
   "metadata": {},
   "source": [
    "# Data Analysis:"
   ]
  },
  {
   "cell_type": "code",
   "execution_count": 32,
   "id": "7535ad7c-d4d1-4084-a52f-30852e81c7c6",
   "metadata": {},
   "outputs": [
    {
     "data": {
      "text/plain": [
       "0                                    End of the Spear\n",
       "1                                      Elvira Madigan\n",
       "2                        The Kid Stays in the Picture\n",
       "3                                       It Ain't Over\n",
       "4                                              Mahler\n",
       "                            ...                      \n",
       "3168    The Lord of the Rings: The Return of the King\n",
       "3169                                 Schindler's List\n",
       "3170                                  The Dark Knight\n",
       "3171                                    The Godfather\n",
       "3172                         The Shawshank Redemption\n",
       "Name: Title, Length: 3173, dtype: object"
      ]
     },
     "execution_count": 32,
     "metadata": {},
     "output_type": "execute_result"
    }
   ],
   "source": [
    "movie_set['Title']"
   ]
  },
  {
   "cell_type": "code",
   "execution_count": 33,
   "id": "439806c3-a07e-4b74-add3-f7b72069acf2",
   "metadata": {},
   "outputs": [
    {
     "data": {
      "text/plain": [
       "Title                 2739\n",
       "IMDb Rating             48\n",
       "Year                    93\n",
       "Certificates            16\n",
       "Genre                   17\n",
       "Director              2089\n",
       "Star Cast             2592\n",
       "MetaScore               78\n",
       "Poster-src            2623\n",
       "Duration (minutes)     156\n",
       "dtype: int64"
      ]
     },
     "execution_count": 33,
     "metadata": {},
     "output_type": "execute_result"
    }
   ],
   "source": [
    "#nunique\n",
    "movie_set.nunique()"
   ]
  },
  {
   "cell_type": "code",
   "execution_count": 35,
   "id": "711007ed-8ee1-45f4-bb70-8e8c47207125",
   "metadata": {},
   "outputs": [
    {
     "data": {
      "text/plain": [
       "16"
      ]
     },
     "execution_count": 35,
     "metadata": {},
     "output_type": "execute_result"
    }
   ],
   "source": [
    "movie_set.Certificates.nunique()"
   ]
  },
  {
   "cell_type": "code",
   "execution_count": 36,
   "id": "d22bc20d-3e9c-4261-8118-add81c9a85e3",
   "metadata": {},
   "outputs": [
    {
     "data": {
      "text/plain": [
       "array(['PG-13', 'PG', 'R', 'G', 'NC-17', 'Approved', 'M/PG', 'TV-MA',\n",
       "       'Not Rated', 'Unrated', 'TV-PG', 'TV-Y7', 'TV-14', 'X', 'Passed',\n",
       "       'TV-G'], dtype=object)"
      ]
     },
     "execution_count": 36,
     "metadata": {},
     "output_type": "execute_result"
    }
   ],
   "source": [
    "# unique\n",
    "movie_set.Certificates.unique()"
   ]
  },
  {
   "cell_type": "markdown",
   "id": "5b69eeaa-8253-4bb8-a22f-afd022d16127",
   "metadata": {},
   "source": [
    "# Value Count()"
   ]
  },
  {
   "cell_type": "code",
   "execution_count": 39,
   "id": "24075745-2595-4707-bebf-04db8a59085a",
   "metadata": {},
   "outputs": [
    {
     "data": {
      "text/plain": [
       "Title                              IMDb Rating  Year  Certificates  Genre        Director               Star Cast                                         MetaScore  Poster-src                                                                                                                                              Duration (minutes)\n",
       "Ready or Not                       6.9          2019  R             Action       Matt Bettinelli-Olpin  Samara WeavingAdam BrodyMark O'Brien              64.0       https://m.media-amazon.com/images/M/MV5BYzBkMzAyMDUtZTFkZS00OWUyLTgwM2ItNGI3MTQ5NzA3NTVkXkEyXkFqcGdeQXVyMTkxNjUyNQ@@._V1_QL75_UX190_CR0,1,190,281_.jpg  95.0                  5\n",
       "Zootopia                           8.0          2016  PG            Animation    Byron Howard           Byron HowardRich MooreJared Bush                  78.0       https://m.media-amazon.com/images/M/MV5BOTMyMjEyNzIzMV5BMl5BanBnXkFtZTgwNzIyNjU0NzE@._V1_QL75_UX190_CR0,0,190,281_.jpg                                  108.0                 5\n",
       "Coco                               8.4          2017  PG            Animation    Lee Unkrich            Lee UnkrichJason KatzMatthew Aldrich              81.0       https://m.media-amazon.com/images/M/MV5BYjQ5NjM0Y2YtNjZkNC00ZDhkLWJjMWItN2QyNzFkMDE3ZjAxXkEyXkFqcGdeQXVyODIxMzk5NjA@._V1_QL75_UY281_CR4,0,190,281_.jpg  105.0                 4\n",
       "Spider-Man: Into the Spider-Verse  8.4          2018  PG            Animation    Bob Persichetti        Phil LordRodney Rothman                           87.0       https://m.media-amazon.com/images/M/MV5BMjMwNDkxMTgzOF5BMl5BanBnXkFtZTgwNTkwNTQ3NjM@._V1_QL75_UX190_CR0,0,190,281_.jpg                                  117.0                 4\n",
       "Holes                              7.0          2003  PG            Adventure    Andrew Davis           Louis Sachar                                      71.0       https://m.media-amazon.com/images/M/MV5BMTg0MTU5ODkwM15BMl5BanBnXkFtZTYwMzgxNzY3._V1_QL75_UY281_CR0,0,190,281_.jpg                                      117.0                 4\n",
       "                                                                                                                                                                                                                                                                                                                                                  ..\n",
       "Hysteria                           6.7          2011  R             Biography    Tanya Wexler           Stephen DyerJonah Lisa DyerHoward Gensler         53.0       https://m.media-amazon.com/images/M/MV5BMjI0NDExNjcwMV5BMl5BanBnXkFtZTcwOTU4Mzg2Nw@@._V1_QL75_UX190_CR0,2,190,281_.jpg                                  100.0                 1\n",
       "I Accuse                           7.0          1938  R             Drama        Abel Gance             Victor FrancenLine NoroSylvie Gance               66.0       https://m.media-amazon.com/images/M/MV5BMGUwYzU2MzEtYzU5Ny00YzQyLThjOTQtOTEzN2M0OTVmZDdhXkEyXkFqcGdeQXVyNTM2NTg3Nzg@._V1_QL75_UX190_CR0,0,190,281_.jpg  116.3                 1\n",
       "I Am Legend                        7.2          2007  PG-13         Action       Francis Lawrence       Mark ProtosevichAkiva GoldsmanRichard Matheson    65.0       https://m.media-amazon.com/images/M/MV5BYTE1ZTBlYzgtNmMyNS00ZTQ2LWE4NjEtZjUxNDJkNTg2MzlhXkEyXkFqcGdeQXVyNjU0OTQ0OTY@._V1_QL75_UX190_CR0,0,190,281_.jpg  101.0                 1\n",
       "I Am Not Your Negro                7.9          2016  PG-13         Documentary  Raoul Peck             Samuel L. JacksonJames BaldwinMartin Luther King  95.0       https://m.media-amazon.com/images/M/MV5BMjEyNzIzMTk3Ml5BMl5BanBnXkFtZTgwNDE1Nzc1MDI@._V1_QL75_UX190_CR0,0,190,281_.jpg                                  93.0                  1\n",
       "Örümcek Adam                       5.3          1966  R             Adventure    Cevat Okçugil          Yilmaz GündüzBaki TamerOrhan Alkan                66.0       https://m.media-amazon.com/images/M/MV5BOWU3ZjIxZmYtMTRkOC00NTUyLTlhYjUtODhjODE4NDI5ZGY2XkEyXkFqcGdeQXVyMjc0MjUzMzU@._V1_QL75_UY281_CR3,0,190,281_.jpg  116.3                 1\n",
       "Name: count, Length: 2762, dtype: int64"
      ]
     },
     "execution_count": 39,
     "metadata": {},
     "output_type": "execute_result"
    }
   ],
   "source": [
    "movie_set.value_counts()"
   ]
  },
  {
   "cell_type": "code",
   "execution_count": 41,
   "id": "1bfa141f-8ebd-4e1a-ac99-bc9d34d9de20",
   "metadata": {},
   "outputs": [
    {
     "data": {
      "text/plain": [
       "MetaScore\n",
       "66.0    1366\n",
       "74.0      55\n",
       "68.0      54\n",
       "65.0      52\n",
       "64.0      51\n",
       "        ... \n",
       "27.0       2\n",
       "99.0       2\n",
       "25.0       1\n",
       "20.0       1\n",
       "23.0       1\n",
       "Name: count, Length: 78, dtype: int64"
      ]
     },
     "execution_count": 41,
     "metadata": {},
     "output_type": "execute_result"
    }
   ],
   "source": [
    "movie_set.MetaScore.value_counts()"
   ]
  },
  {
   "cell_type": "code",
   "execution_count": 142,
   "id": "1be232b8-99c5-4bd1-b7a0-7ced1bb54a35",
   "metadata": {},
   "outputs": [],
   "source": [
    "movie_set.rename(columns={\"Duration (minutes)\":\"TimeDuration\"},inplace =True)"
   ]
  },
  {
   "cell_type": "code",
   "execution_count": 143,
   "id": "676c2321-f8b1-47bf-9ce1-4331e9f94a1f",
   "metadata": {},
   "outputs": [
    {
     "data": {
      "text/html": [
       "<div>\n",
       "<style scoped>\n",
       "    .dataframe tbody tr th:only-of-type {\n",
       "        vertical-align: middle;\n",
       "    }\n",
       "\n",
       "    .dataframe tbody tr th {\n",
       "        vertical-align: top;\n",
       "    }\n",
       "\n",
       "    .dataframe thead th {\n",
       "        text-align: right;\n",
       "    }\n",
       "</style>\n",
       "<table border=\"1\" class=\"dataframe\">\n",
       "  <thead>\n",
       "    <tr style=\"text-align: right;\">\n",
       "      <th></th>\n",
       "      <th>Title</th>\n",
       "      <th>IMDb Rating</th>\n",
       "      <th>Year</th>\n",
       "      <th>Certificates</th>\n",
       "      <th>Genre</th>\n",
       "      <th>Director</th>\n",
       "      <th>Star Cast</th>\n",
       "      <th>MetaScore</th>\n",
       "      <th>Poster-src</th>\n",
       "      <th>TimeDuration</th>\n",
       "    </tr>\n",
       "  </thead>\n",
       "  <tbody>\n",
       "    <tr>\n",
       "      <th>0</th>\n",
       "      <td>End of the Spear</td>\n",
       "      <td>6.8</td>\n",
       "      <td>2005</td>\n",
       "      <td>PG-13</td>\n",
       "      <td>Adventure</td>\n",
       "      <td>Jim Hanon</td>\n",
       "      <td>Louie LeonardoChad AllenJack Guzman</td>\n",
       "      <td>45.0</td>\n",
       "      <td>https://m.media-amazon.com/images/M/MV5BMTYxOT...</td>\n",
       "      <td>108.0</td>\n",
       "    </tr>\n",
       "    <tr>\n",
       "      <th>1</th>\n",
       "      <td>Elvira Madigan</td>\n",
       "      <td>7.0</td>\n",
       "      <td>1967</td>\n",
       "      <td>PG</td>\n",
       "      <td>Biography</td>\n",
       "      <td>Bo Widerberg</td>\n",
       "      <td>Pia DegermarkThommy BerggrenLennart Malmer</td>\n",
       "      <td>66.0</td>\n",
       "      <td>https://m.media-amazon.com/images/M/MV5BMmY2Nj...</td>\n",
       "      <td>91.0</td>\n",
       "    </tr>\n",
       "  </tbody>\n",
       "</table>\n",
       "</div>"
      ],
      "text/plain": [
       "              Title  IMDb Rating  Year Certificates      Genre      Director  \\\n",
       "0  End of the Spear          6.8  2005        PG-13  Adventure     Jim Hanon   \n",
       "1    Elvira Madigan          7.0  1967           PG  Biography  Bo Widerberg   \n",
       "\n",
       "                                    Star Cast  MetaScore  \\\n",
       "0         Louie LeonardoChad AllenJack Guzman       45.0   \n",
       "1  Pia DegermarkThommy BerggrenLennart Malmer       66.0   \n",
       "\n",
       "                                          Poster-src  TimeDuration  \n",
       "0  https://m.media-amazon.com/images/M/MV5BMTYxOT...         108.0  \n",
       "1  https://m.media-amazon.com/images/M/MV5BMmY2Nj...          91.0  "
      ]
     },
     "execution_count": 143,
     "metadata": {},
     "output_type": "execute_result"
    }
   ],
   "source": [
    "movie_set.head(2)"
   ]
  },
  {
   "cell_type": "code",
   "execution_count": 144,
   "id": "d6de62a3-ca97-4d5e-8082-4d73681ce86e",
   "metadata": {},
   "outputs": [
    {
     "data": {
      "text/html": [
       "<div>\n",
       "<style scoped>\n",
       "    .dataframe tbody tr th:only-of-type {\n",
       "        vertical-align: middle;\n",
       "    }\n",
       "\n",
       "    .dataframe tbody tr th {\n",
       "        vertical-align: top;\n",
       "    }\n",
       "\n",
       "    .dataframe thead th {\n",
       "        text-align: right;\n",
       "    }\n",
       "</style>\n",
       "<table border=\"1\" class=\"dataframe\">\n",
       "  <thead>\n",
       "    <tr style=\"text-align: right;\">\n",
       "      <th></th>\n",
       "      <th>Title</th>\n",
       "      <th>IMDb Rating</th>\n",
       "      <th>Year</th>\n",
       "      <th>Certificates</th>\n",
       "      <th>Genre</th>\n",
       "      <th>Director</th>\n",
       "      <th>Star Cast</th>\n",
       "      <th>MetaScore</th>\n",
       "      <th>Poster-src</th>\n",
       "      <th>TimeDuration</th>\n",
       "    </tr>\n",
       "  </thead>\n",
       "  <tbody>\n",
       "    <tr>\n",
       "      <th>0</th>\n",
       "      <td>End of the Spear</td>\n",
       "      <td>6.8</td>\n",
       "      <td>2005</td>\n",
       "      <td>PG-13</td>\n",
       "      <td>Adventure</td>\n",
       "      <td>Jim Hanon</td>\n",
       "      <td>Louie LeonardoChad AllenJack Guzman</td>\n",
       "      <td>45.0</td>\n",
       "      <td>https://m.media-amazon.com/images/M/MV5BMTYxOT...</td>\n",
       "      <td>108.0</td>\n",
       "    </tr>\n",
       "    <tr>\n",
       "      <th>1</th>\n",
       "      <td>Elvira Madigan</td>\n",
       "      <td>7.0</td>\n",
       "      <td>1967</td>\n",
       "      <td>PG</td>\n",
       "      <td>Biography</td>\n",
       "      <td>Bo Widerberg</td>\n",
       "      <td>Pia DegermarkThommy BerggrenLennart Malmer</td>\n",
       "      <td>66.0</td>\n",
       "      <td>https://m.media-amazon.com/images/M/MV5BMmY2Nj...</td>\n",
       "      <td>91.0</td>\n",
       "    </tr>\n",
       "  </tbody>\n",
       "</table>\n",
       "</div>"
      ],
      "text/plain": [
       "              Title  IMDb Rating  Year Certificates      Genre      Director  \\\n",
       "0  End of the Spear          6.8  2005        PG-13  Adventure     Jim Hanon   \n",
       "1    Elvira Madigan          7.0  1967           PG  Biography  Bo Widerberg   \n",
       "\n",
       "                                    Star Cast  MetaScore  \\\n",
       "0         Louie LeonardoChad AllenJack Guzman       45.0   \n",
       "1  Pia DegermarkThommy BerggrenLennart Malmer       66.0   \n",
       "\n",
       "                                          Poster-src  TimeDuration  \n",
       "0  https://m.media-amazon.com/images/M/MV5BMTYxOT...         108.0  \n",
       "1  https://m.media-amazon.com/images/M/MV5BMmY2Nj...          91.0  "
      ]
     },
     "execution_count": 144,
     "metadata": {},
     "output_type": "execute_result"
    }
   ],
   "source": [
    "movie_set.head(2)"
   ]
  },
  {
   "cell_type": "code",
   "execution_count": 69,
   "id": "a7e46c3c-13b6-4abf-b7d6-7b75b16029c4",
   "metadata": {},
   "outputs": [
    {
     "name": "stdout",
     "output_type": "stream",
     "text": [
      "2907\n"
     ]
    }
   ],
   "source": [
    "movie_set = movie_set['MetaScore']\n",
    "X=0\n",
    "for i in movie_set:\n",
    "    if i >= 50:\n",
    "        X+=1\n",
    "print(X)"
   ]
  },
  {
   "cell_type": "code",
   "execution_count": 74,
   "id": "3fd0e373-4459-4ec2-b58f-9a2b2da569df",
   "metadata": {},
   "outputs": [
    {
     "data": {
      "text/html": [
       "<div>\n",
       "<style scoped>\n",
       "    .dataframe tbody tr th:only-of-type {\n",
       "        vertical-align: middle;\n",
       "    }\n",
       "\n",
       "    .dataframe tbody tr th {\n",
       "        vertical-align: top;\n",
       "    }\n",
       "\n",
       "    .dataframe thead th {\n",
       "        text-align: right;\n",
       "    }\n",
       "</style>\n",
       "<table border=\"1\" class=\"dataframe\">\n",
       "  <thead>\n",
       "    <tr style=\"text-align: right;\">\n",
       "      <th></th>\n",
       "      <th>Title</th>\n",
       "      <th>IMDb Rating</th>\n",
       "      <th>Year</th>\n",
       "      <th>Certificates</th>\n",
       "      <th>Genre</th>\n",
       "      <th>Director</th>\n",
       "      <th>Star Cast</th>\n",
       "      <th>MetaScore</th>\n",
       "      <th>Poster-src</th>\n",
       "      <th>Duration (minutes)</th>\n",
       "    </tr>\n",
       "  </thead>\n",
       "  <tbody>\n",
       "    <tr>\n",
       "      <th>3</th>\n",
       "      <td>It Ain't Over</td>\n",
       "      <td>8.2</td>\n",
       "      <td>2022</td>\n",
       "      <td>PG</td>\n",
       "      <td>Documentary</td>\n",
       "      <td>Sean Mullin</td>\n",
       "      <td>Andy AndresRoger AngellMarty Appel</td>\n",
       "      <td>79.0</td>\n",
       "      <td>https://m.media-amazon.com/images/M/MV5BZWViYW...</td>\n",
       "      <td>99.0</td>\n",
       "    </tr>\n",
       "    <tr>\n",
       "      <th>6</th>\n",
       "      <td>Stephen Curry: Underrated</td>\n",
       "      <td>7.3</td>\n",
       "      <td>2023</td>\n",
       "      <td>PG-13</td>\n",
       "      <td>Documentary</td>\n",
       "      <td>Peter Nicks</td>\n",
       "      <td>Stephen CurryBob McKillopJason Richards</td>\n",
       "      <td>69.0</td>\n",
       "      <td>https://m.media-amazon.com/images/M/MV5BOTNhZW...</td>\n",
       "      <td>110.0</td>\n",
       "    </tr>\n",
       "    <tr>\n",
       "      <th>8</th>\n",
       "      <td>Burden</td>\n",
       "      <td>6.7</td>\n",
       "      <td>2018</td>\n",
       "      <td>R</td>\n",
       "      <td>Biography</td>\n",
       "      <td>Andrew Heckler</td>\n",
       "      <td>Garrett HedlundAndrea RiseboroughForest Whitaker</td>\n",
       "      <td>57.0</td>\n",
       "      <td>https://m.media-amazon.com/images/M/MV5BMTlhNz...</td>\n",
       "      <td>117.0</td>\n",
       "    </tr>\n",
       "    <tr>\n",
       "      <th>9</th>\n",
       "      <td>Georgetown</td>\n",
       "      <td>6.2</td>\n",
       "      <td>2019</td>\n",
       "      <td>R</td>\n",
       "      <td>Biography</td>\n",
       "      <td>Christoph Waltz</td>\n",
       "      <td>Christoph WaltzVanessa RedgraveAnnette Bening</td>\n",
       "      <td>49.0</td>\n",
       "      <td>https://m.media-amazon.com/images/M/MV5BMmZlMz...</td>\n",
       "      <td>99.0</td>\n",
       "    </tr>\n",
       "    <tr>\n",
       "      <th>15</th>\n",
       "      <td>Godard Mon Amour</td>\n",
       "      <td>6.6</td>\n",
       "      <td>2017</td>\n",
       "      <td>R</td>\n",
       "      <td>Biography</td>\n",
       "      <td>Michel Hazanavicius</td>\n",
       "      <td>Louis GarrelStacy MartinBérénice Bejo</td>\n",
       "      <td>55.0</td>\n",
       "      <td>https://m.media-amazon.com/images/M/MV5BYTNkNG...</td>\n",
       "      <td>107.0</td>\n",
       "    </tr>\n",
       "    <tr>\n",
       "      <th>...</th>\n",
       "      <td>...</td>\n",
       "      <td>...</td>\n",
       "      <td>...</td>\n",
       "      <td>...</td>\n",
       "      <td>...</td>\n",
       "      <td>...</td>\n",
       "      <td>...</td>\n",
       "      <td>...</td>\n",
       "      <td>...</td>\n",
       "      <td>...</td>\n",
       "    </tr>\n",
       "    <tr>\n",
       "      <th>3114</th>\n",
       "      <td>Avengers: Endgame</td>\n",
       "      <td>8.4</td>\n",
       "      <td>2019</td>\n",
       "      <td>PG-13</td>\n",
       "      <td>Action</td>\n",
       "      <td>Anthony Russo</td>\n",
       "      <td>Christopher MarkusStephen McFeelyStan Lee</td>\n",
       "      <td>78.0</td>\n",
       "      <td>https://m.media-amazon.com/images/M/MV5BMTc5MD...</td>\n",
       "      <td>181.0</td>\n",
       "    </tr>\n",
       "    <tr>\n",
       "      <th>3136</th>\n",
       "      <td>Parasite</td>\n",
       "      <td>8.5</td>\n",
       "      <td>2019</td>\n",
       "      <td>R</td>\n",
       "      <td>Drama</td>\n",
       "      <td>Bong Joon Ho</td>\n",
       "      <td>Bong Joon HoHan Jin-won</td>\n",
       "      <td>97.0</td>\n",
       "      <td>https://m.media-amazon.com/images/M/MV5BYWZjMj...</td>\n",
       "      <td>132.0</td>\n",
       "    </tr>\n",
       "    <tr>\n",
       "      <th>3151</th>\n",
       "      <td>Spider-Man: Across the Spider-Verse</td>\n",
       "      <td>8.6</td>\n",
       "      <td>2023</td>\n",
       "      <td>PG</td>\n",
       "      <td>Animation</td>\n",
       "      <td>Joaquim Dos Santos</td>\n",
       "      <td>Shameik MooreHailee SteinfeldBrian Tyree Henry</td>\n",
       "      <td>86.0</td>\n",
       "      <td>https://m.media-amazon.com/images/M/MV5BMzI0Nm...</td>\n",
       "      <td>140.0</td>\n",
       "    </tr>\n",
       "    <tr>\n",
       "      <th>3152</th>\n",
       "      <td>Dune: Part Two</td>\n",
       "      <td>8.6</td>\n",
       "      <td>2024</td>\n",
       "      <td>PG-13</td>\n",
       "      <td>Action</td>\n",
       "      <td>Denis Villeneuve</td>\n",
       "      <td>Timothée ChalametZendayaRebecca Ferguson</td>\n",
       "      <td>79.0</td>\n",
       "      <td>https://m.media-amazon.com/images/M/MV5BN2QyZG...</td>\n",
       "      <td>166.0</td>\n",
       "    </tr>\n",
       "    <tr>\n",
       "      <th>3163</th>\n",
       "      <td>12th Fail</td>\n",
       "      <td>8.9</td>\n",
       "      <td>2023</td>\n",
       "      <td>R</td>\n",
       "      <td>Biography</td>\n",
       "      <td>Vidhu Vinod Chopra</td>\n",
       "      <td>Vidhu Vinod ChopraJaskunwar KohliAnurag Pathak</td>\n",
       "      <td>66.0</td>\n",
       "      <td>https://m.media-amazon.com/images/M/MV5BZDI4OT...</td>\n",
       "      <td>116.3</td>\n",
       "    </tr>\n",
       "  </tbody>\n",
       "</table>\n",
       "<p>973 rows × 10 columns</p>\n",
       "</div>"
      ],
      "text/plain": [
       "                                    Title  IMDb Rating  Year Certificates  \\\n",
       "3                           It Ain't Over          8.2  2022           PG   \n",
       "6               Stephen Curry: Underrated          7.3  2023        PG-13   \n",
       "8                                  Burden          6.7  2018            R   \n",
       "9                              Georgetown          6.2  2019            R   \n",
       "15                       Godard Mon Amour          6.6  2017            R   \n",
       "...                                   ...          ...   ...          ...   \n",
       "3114                    Avengers: Endgame          8.4  2019        PG-13   \n",
       "3136                             Parasite          8.5  2019            R   \n",
       "3151  Spider-Man: Across the Spider-Verse          8.6  2023           PG   \n",
       "3152                       Dune: Part Two          8.6  2024        PG-13   \n",
       "3163                            12th Fail          8.9  2023            R   \n",
       "\n",
       "            Genre             Director  \\\n",
       "3     Documentary          Sean Mullin   \n",
       "6     Documentary          Peter Nicks   \n",
       "8       Biography       Andrew Heckler   \n",
       "9       Biography      Christoph Waltz   \n",
       "15      Biography  Michel Hazanavicius   \n",
       "...           ...                  ...   \n",
       "3114       Action        Anthony Russo   \n",
       "3136        Drama         Bong Joon Ho   \n",
       "3151    Animation   Joaquim Dos Santos   \n",
       "3152       Action     Denis Villeneuve   \n",
       "3163    Biography   Vidhu Vinod Chopra   \n",
       "\n",
       "                                             Star Cast  MetaScore  \\\n",
       "3                   Andy AndresRoger AngellMarty Appel       79.0   \n",
       "6              Stephen CurryBob McKillopJason Richards       69.0   \n",
       "8     Garrett HedlundAndrea RiseboroughForest Whitaker       57.0   \n",
       "9        Christoph WaltzVanessa RedgraveAnnette Bening       49.0   \n",
       "15               Louis GarrelStacy MartinBérénice Bejo       55.0   \n",
       "...                                                ...        ...   \n",
       "3114         Christopher MarkusStephen McFeelyStan Lee       78.0   \n",
       "3136                           Bong Joon HoHan Jin-won       97.0   \n",
       "3151    Shameik MooreHailee SteinfeldBrian Tyree Henry       86.0   \n",
       "3152          Timothée ChalametZendayaRebecca Ferguson       79.0   \n",
       "3163    Vidhu Vinod ChopraJaskunwar KohliAnurag Pathak       66.0   \n",
       "\n",
       "                                             Poster-src  Duration (minutes)  \n",
       "3     https://m.media-amazon.com/images/M/MV5BZWViYW...                99.0  \n",
       "6     https://m.media-amazon.com/images/M/MV5BOTNhZW...               110.0  \n",
       "8     https://m.media-amazon.com/images/M/MV5BMTlhNz...               117.0  \n",
       "9     https://m.media-amazon.com/images/M/MV5BMmZlMz...                99.0  \n",
       "15    https://m.media-amazon.com/images/M/MV5BYTNkNG...               107.0  \n",
       "...                                                 ...                 ...  \n",
       "3114  https://m.media-amazon.com/images/M/MV5BMTc5MD...               181.0  \n",
       "3136  https://m.media-amazon.com/images/M/MV5BYWZjMj...               132.0  \n",
       "3151  https://m.media-amazon.com/images/M/MV5BMzI0Nm...               140.0  \n",
       "3152  https://m.media-amazon.com/images/M/MV5BN2QyZG...               166.0  \n",
       "3163  https://m.media-amazon.com/images/M/MV5BZDI4OT...               116.3  \n",
       "\n",
       "[973 rows x 10 columns]"
      ]
     },
     "execution_count": 74,
     "metadata": {},
     "output_type": "execute_result"
    }
   ],
   "source": [
    "movie_set[movie_set[\"Year\"]>2015]"
   ]
  },
  {
   "cell_type": "code",
   "execution_count": 75,
   "id": "c157abda-81ef-421e-a4e1-bd7fdc1fb20d",
   "metadata": {},
   "outputs": [
    {
     "data": {
      "text/plain": [
       "0       False\n",
       "1        True\n",
       "2       False\n",
       "3       False\n",
       "4        True\n",
       "        ...  \n",
       "3168    False\n",
       "3169     True\n",
       "3170    False\n",
       "3171    False\n",
       "3172    False\n",
       "Name: Genre, Length: 3173, dtype: bool"
      ]
     },
     "execution_count": 75,
     "metadata": {},
     "output_type": "execute_result"
    }
   ],
   "source": [
    "movie_set.Genre == \"Biography\""
   ]
  },
  {
   "cell_type": "code",
   "execution_count": 76,
   "id": "b7944606-c8e9-4854-8ee9-a17d4f59afe3",
   "metadata": {},
   "outputs": [
    {
     "data": {
      "text/html": [
       "<div>\n",
       "<style scoped>\n",
       "    .dataframe tbody tr th:only-of-type {\n",
       "        vertical-align: middle;\n",
       "    }\n",
       "\n",
       "    .dataframe tbody tr th {\n",
       "        vertical-align: top;\n",
       "    }\n",
       "\n",
       "    .dataframe thead th {\n",
       "        text-align: right;\n",
       "    }\n",
       "</style>\n",
       "<table border=\"1\" class=\"dataframe\">\n",
       "  <thead>\n",
       "    <tr style=\"text-align: right;\">\n",
       "      <th></th>\n",
       "      <th>Title</th>\n",
       "      <th>IMDb Rating</th>\n",
       "      <th>Year</th>\n",
       "      <th>Certificates</th>\n",
       "      <th>Genre</th>\n",
       "      <th>Director</th>\n",
       "      <th>Star Cast</th>\n",
       "      <th>MetaScore</th>\n",
       "      <th>Poster-src</th>\n",
       "      <th>Duration (minutes)</th>\n",
       "    </tr>\n",
       "  </thead>\n",
       "  <tbody>\n",
       "    <tr>\n",
       "      <th>1</th>\n",
       "      <td>Elvira Madigan</td>\n",
       "      <td>7.0</td>\n",
       "      <td>1967</td>\n",
       "      <td>PG</td>\n",
       "      <td>Biography</td>\n",
       "      <td>Bo Widerberg</td>\n",
       "      <td>Pia DegermarkThommy BerggrenLennart Malmer</td>\n",
       "      <td>66.0</td>\n",
       "      <td>https://m.media-amazon.com/images/M/MV5BMmY2Nj...</td>\n",
       "      <td>91.0</td>\n",
       "    </tr>\n",
       "    <tr>\n",
       "      <th>4</th>\n",
       "      <td>Mahler</td>\n",
       "      <td>7.0</td>\n",
       "      <td>1974</td>\n",
       "      <td>PG</td>\n",
       "      <td>Biography</td>\n",
       "      <td>Ken Russell</td>\n",
       "      <td>Robert PowellGeorgina HaleLee Montague</td>\n",
       "      <td>66.0</td>\n",
       "      <td>https://m.media-amazon.com/images/M/MV5BYzY4Mz...</td>\n",
       "      <td>115.0</td>\n",
       "    </tr>\n",
       "    <tr>\n",
       "      <th>5</th>\n",
       "      <td>The Dark Horse</td>\n",
       "      <td>7.4</td>\n",
       "      <td>2014</td>\n",
       "      <td>R</td>\n",
       "      <td>Biography</td>\n",
       "      <td>James Napier Robertson</td>\n",
       "      <td>Cliff CurtisJames RollestonKirk Torrance</td>\n",
       "      <td>77.0</td>\n",
       "      <td>https://m.media-amazon.com/images/M/MV5BMjQzNj...</td>\n",
       "      <td>124.0</td>\n",
       "    </tr>\n",
       "    <tr>\n",
       "      <th>7</th>\n",
       "      <td>Carrington</td>\n",
       "      <td>6.8</td>\n",
       "      <td>1995</td>\n",
       "      <td>R</td>\n",
       "      <td>Biography</td>\n",
       "      <td>Christopher Hampton</td>\n",
       "      <td>Emma ThompsonJonathan PryceSteven Waddington</td>\n",
       "      <td>66.0</td>\n",
       "      <td>https://m.media-amazon.com/images/M/MV5BZjQ3MT...</td>\n",
       "      <td>121.0</td>\n",
       "    </tr>\n",
       "    <tr>\n",
       "      <th>8</th>\n",
       "      <td>Burden</td>\n",
       "      <td>6.7</td>\n",
       "      <td>2018</td>\n",
       "      <td>R</td>\n",
       "      <td>Biography</td>\n",
       "      <td>Andrew Heckler</td>\n",
       "      <td>Garrett HedlundAndrea RiseboroughForest Whitaker</td>\n",
       "      <td>57.0</td>\n",
       "      <td>https://m.media-amazon.com/images/M/MV5BMTlhNz...</td>\n",
       "      <td>117.0</td>\n",
       "    </tr>\n",
       "    <tr>\n",
       "      <th>...</th>\n",
       "      <td>...</td>\n",
       "      <td>...</td>\n",
       "      <td>...</td>\n",
       "      <td>...</td>\n",
       "      <td>...</td>\n",
       "      <td>...</td>\n",
       "      <td>...</td>\n",
       "      <td>...</td>\n",
       "      <td>...</td>\n",
       "      <td>...</td>\n",
       "    </tr>\n",
       "    <tr>\n",
       "      <th>3108</th>\n",
       "      <td>Amadeus</td>\n",
       "      <td>8.4</td>\n",
       "      <td>1984</td>\n",
       "      <td>PG</td>\n",
       "      <td>Biography</td>\n",
       "      <td>Milos Forman</td>\n",
       "      <td>Peter ShafferZdenek Mahler</td>\n",
       "      <td>87.0</td>\n",
       "      <td>https://m.media-amazon.com/images/M/MV5BNWJlNz...</td>\n",
       "      <td>160.0</td>\n",
       "    </tr>\n",
       "    <tr>\n",
       "      <th>3124</th>\n",
       "      <td>The Pianist</td>\n",
       "      <td>8.5</td>\n",
       "      <td>2002</td>\n",
       "      <td>R</td>\n",
       "      <td>Biography</td>\n",
       "      <td>Roman Polanski</td>\n",
       "      <td>Adrien BrodyThomas KretschmannFrank Finlay</td>\n",
       "      <td>85.0</td>\n",
       "      <td>https://m.media-amazon.com/images/M/MV5BOWRiZD...</td>\n",
       "      <td>150.0</td>\n",
       "    </tr>\n",
       "    <tr>\n",
       "      <th>3155</th>\n",
       "      <td>Goodfellas</td>\n",
       "      <td>8.7</td>\n",
       "      <td>1990</td>\n",
       "      <td>R</td>\n",
       "      <td>Biography</td>\n",
       "      <td>Martin Scorsese</td>\n",
       "      <td>Nicholas PileggiMartin Scorsese</td>\n",
       "      <td>92.0</td>\n",
       "      <td>https://m.media-amazon.com/images/M/MV5BY2NkZj...</td>\n",
       "      <td>145.0</td>\n",
       "    </tr>\n",
       "    <tr>\n",
       "      <th>3163</th>\n",
       "      <td>12th Fail</td>\n",
       "      <td>8.9</td>\n",
       "      <td>2023</td>\n",
       "      <td>R</td>\n",
       "      <td>Biography</td>\n",
       "      <td>Vidhu Vinod Chopra</td>\n",
       "      <td>Vidhu Vinod ChopraJaskunwar KohliAnurag Pathak</td>\n",
       "      <td>66.0</td>\n",
       "      <td>https://m.media-amazon.com/images/M/MV5BZDI4OT...</td>\n",
       "      <td>116.3</td>\n",
       "    </tr>\n",
       "    <tr>\n",
       "      <th>3169</th>\n",
       "      <td>Schindler's List</td>\n",
       "      <td>9.0</td>\n",
       "      <td>1993</td>\n",
       "      <td>R</td>\n",
       "      <td>Biography</td>\n",
       "      <td>Steven Spielberg</td>\n",
       "      <td>Liam NeesonRalph FiennesBen Kingsley</td>\n",
       "      <td>95.0</td>\n",
       "      <td>https://m.media-amazon.com/images/M/MV5BNDE4OT...</td>\n",
       "      <td>195.0</td>\n",
       "    </tr>\n",
       "  </tbody>\n",
       "</table>\n",
       "<p>868 rows × 10 columns</p>\n",
       "</div>"
      ],
      "text/plain": [
       "                 Title  IMDb Rating  Year Certificates      Genre  \\\n",
       "1       Elvira Madigan          7.0  1967           PG  Biography   \n",
       "4               Mahler          7.0  1974           PG  Biography   \n",
       "5       The Dark Horse          7.4  2014            R  Biography   \n",
       "7           Carrington          6.8  1995            R  Biography   \n",
       "8               Burden          6.7  2018            R  Biography   \n",
       "...                ...          ...   ...          ...        ...   \n",
       "3108           Amadeus          8.4  1984           PG  Biography   \n",
       "3124       The Pianist          8.5  2002            R  Biography   \n",
       "3155        Goodfellas          8.7  1990            R  Biography   \n",
       "3163         12th Fail          8.9  2023            R  Biography   \n",
       "3169  Schindler's List          9.0  1993            R  Biography   \n",
       "\n",
       "                    Director  \\\n",
       "1               Bo Widerberg   \n",
       "4                Ken Russell   \n",
       "5     James Napier Robertson   \n",
       "7        Christopher Hampton   \n",
       "8             Andrew Heckler   \n",
       "...                      ...   \n",
       "3108            Milos Forman   \n",
       "3124          Roman Polanski   \n",
       "3155         Martin Scorsese   \n",
       "3163      Vidhu Vinod Chopra   \n",
       "3169        Steven Spielberg   \n",
       "\n",
       "                                             Star Cast  MetaScore  \\\n",
       "1           Pia DegermarkThommy BerggrenLennart Malmer       66.0   \n",
       "4               Robert PowellGeorgina HaleLee Montague       66.0   \n",
       "5             Cliff CurtisJames RollestonKirk Torrance       77.0   \n",
       "7         Emma ThompsonJonathan PryceSteven Waddington       66.0   \n",
       "8     Garrett HedlundAndrea RiseboroughForest Whitaker       57.0   \n",
       "...                                                ...        ...   \n",
       "3108                        Peter ShafferZdenek Mahler       87.0   \n",
       "3124        Adrien BrodyThomas KretschmannFrank Finlay       85.0   \n",
       "3155                   Nicholas PileggiMartin Scorsese       92.0   \n",
       "3163    Vidhu Vinod ChopraJaskunwar KohliAnurag Pathak       66.0   \n",
       "3169              Liam NeesonRalph FiennesBen Kingsley       95.0   \n",
       "\n",
       "                                             Poster-src  Duration (minutes)  \n",
       "1     https://m.media-amazon.com/images/M/MV5BMmY2Nj...                91.0  \n",
       "4     https://m.media-amazon.com/images/M/MV5BYzY4Mz...               115.0  \n",
       "5     https://m.media-amazon.com/images/M/MV5BMjQzNj...               124.0  \n",
       "7     https://m.media-amazon.com/images/M/MV5BZjQ3MT...               121.0  \n",
       "8     https://m.media-amazon.com/images/M/MV5BMTlhNz...               117.0  \n",
       "...                                                 ...                 ...  \n",
       "3108  https://m.media-amazon.com/images/M/MV5BNWJlNz...               160.0  \n",
       "3124  https://m.media-amazon.com/images/M/MV5BOWRiZD...               150.0  \n",
       "3155  https://m.media-amazon.com/images/M/MV5BY2NkZj...               145.0  \n",
       "3163  https://m.media-amazon.com/images/M/MV5BZDI4OT...               116.3  \n",
       "3169  https://m.media-amazon.com/images/M/MV5BNDE4OT...               195.0  \n",
       "\n",
       "[868 rows x 10 columns]"
      ]
     },
     "execution_count": 76,
     "metadata": {},
     "output_type": "execute_result"
    }
   ],
   "source": [
    "movie_set[movie_set[\"Genre\"] == \"Biography\"]"
   ]
  },
  {
   "cell_type": "code",
   "execution_count": 79,
   "id": "8f6b03f1-ed2d-4629-afba-09c2653bf4c2",
   "metadata": {},
   "outputs": [
    {
     "data": {
      "text/plain": [
       "65.99306649858178"
      ]
     },
     "execution_count": 79,
     "metadata": {},
     "output_type": "execute_result"
    }
   ],
   "source": [
    "movie_set.MetaScore.mean()\t"
   ]
  },
  {
   "cell_type": "code",
   "execution_count": 80,
   "id": "d5dab032-7fcc-42b5-91a7-caf4efabdaf1",
   "metadata": {},
   "outputs": [
    {
     "data": {
      "text/plain": [
       "66.0"
      ]
     },
     "execution_count": 80,
     "metadata": {},
     "output_type": "execute_result"
    }
   ],
   "source": [
    "movie_set.MetaScore.median()\t"
   ]
  },
  {
   "cell_type": "code",
   "execution_count": 89,
   "id": "7bcf2efd-e5c6-4636-a98a-f06575164281",
   "metadata": {},
   "outputs": [
    {
     "data": {
      "text/html": [
       "<div>\n",
       "<style scoped>\n",
       "    .dataframe tbody tr th:only-of-type {\n",
       "        vertical-align: middle;\n",
       "    }\n",
       "\n",
       "    .dataframe tbody tr th {\n",
       "        vertical-align: top;\n",
       "    }\n",
       "\n",
       "    .dataframe thead th {\n",
       "        text-align: right;\n",
       "    }\n",
       "</style>\n",
       "<table border=\"1\" class=\"dataframe\">\n",
       "  <thead>\n",
       "    <tr style=\"text-align: right;\">\n",
       "      <th></th>\n",
       "      <th>Title</th>\n",
       "      <th>IMDb Rating</th>\n",
       "      <th>Year</th>\n",
       "      <th>Certificates</th>\n",
       "      <th>Genre</th>\n",
       "      <th>Director</th>\n",
       "      <th>Star Cast</th>\n",
       "      <th>MetaScore</th>\n",
       "      <th>Poster-src</th>\n",
       "      <th>Duration (minutes)</th>\n",
       "    </tr>\n",
       "  </thead>\n",
       "  <tbody>\n",
       "    <tr>\n",
       "      <th>2769</th>\n",
       "      <td>1900</td>\n",
       "      <td>7.6</td>\n",
       "      <td>1976</td>\n",
       "      <td>Unrated</td>\n",
       "      <td>Drama</td>\n",
       "      <td>Bernardo Bertolucci</td>\n",
       "      <td>Robert De NiroGérard DepardieuDominique Sanda</td>\n",
       "      <td>70.0</td>\n",
       "      <td>https://m.media-amazon.com/images/M/MV5BMmM3Nj...</td>\n",
       "      <td>317.0</td>\n",
       "    </tr>\n",
       "    <tr>\n",
       "      <th>2828</th>\n",
       "      <td>Gettysburg</td>\n",
       "      <td>7.6</td>\n",
       "      <td>1993</td>\n",
       "      <td>PG</td>\n",
       "      <td>Drama</td>\n",
       "      <td>Ron Maxwell</td>\n",
       "      <td>Tom BerengerMartin SheenStephen Lang</td>\n",
       "      <td>66.0</td>\n",
       "      <td>https://m.media-amazon.com/images/M/MV5BZjgzNz...</td>\n",
       "      <td>271.0</td>\n",
       "    </tr>\n",
       "    <tr>\n",
       "      <th>2572</th>\n",
       "      <td>Occupied City</td>\n",
       "      <td>6.5</td>\n",
       "      <td>2023</td>\n",
       "      <td>PG-13</td>\n",
       "      <td>Documentary</td>\n",
       "      <td>Steve McQueen</td>\n",
       "      <td>Queen Máxima of the NetherlandsKing Willem-Ale...</td>\n",
       "      <td>76.0</td>\n",
       "      <td>https://m.media-amazon.com/images/M/MV5BZjliOG...</td>\n",
       "      <td>266.0</td>\n",
       "    </tr>\n",
       "    <tr>\n",
       "      <th>301</th>\n",
       "      <td>The Greatest Story Ever Told</td>\n",
       "      <td>6.6</td>\n",
       "      <td>1965</td>\n",
       "      <td>G</td>\n",
       "      <td>Biography</td>\n",
       "      <td>George Stevens</td>\n",
       "      <td>Fulton OurslerHenry DenkerJames Lee Barrett</td>\n",
       "      <td>66.0</td>\n",
       "      <td>https://m.media-amazon.com/images/M/MV5BMTU4ND...</td>\n",
       "      <td>260.0</td>\n",
       "    </tr>\n",
       "    <tr>\n",
       "      <th>2672</th>\n",
       "      <td>The Greatest Story Ever Told</td>\n",
       "      <td>6.6</td>\n",
       "      <td>1965</td>\n",
       "      <td>G</td>\n",
       "      <td>Biography</td>\n",
       "      <td>George Stevens</td>\n",
       "      <td>Fulton OurslerHenry DenkerJames Lee Barrett</td>\n",
       "      <td>66.0</td>\n",
       "      <td>https://m.media-amazon.com/images/M/MV5BMTU4ND...</td>\n",
       "      <td>260.0</td>\n",
       "    </tr>\n",
       "  </tbody>\n",
       "</table>\n",
       "</div>"
      ],
      "text/plain": [
       "                             Title  IMDb Rating  Year Certificates  \\\n",
       "2769                          1900          7.6  1976      Unrated   \n",
       "2828                    Gettysburg          7.6  1993           PG   \n",
       "2572                 Occupied City          6.5  2023        PG-13   \n",
       "301   The Greatest Story Ever Told          6.6  1965            G   \n",
       "2672  The Greatest Story Ever Told          6.6  1965            G   \n",
       "\n",
       "            Genre             Director  \\\n",
       "2769        Drama  Bernardo Bertolucci   \n",
       "2828        Drama          Ron Maxwell   \n",
       "2572  Documentary        Steve McQueen   \n",
       "301     Biography       George Stevens   \n",
       "2672    Biography       George Stevens   \n",
       "\n",
       "                                              Star Cast  MetaScore  \\\n",
       "2769      Robert De NiroGérard DepardieuDominique Sanda       70.0   \n",
       "2828               Tom BerengerMartin SheenStephen Lang       66.0   \n",
       "2572  Queen Máxima of the NetherlandsKing Willem-Ale...       76.0   \n",
       "301         Fulton OurslerHenry DenkerJames Lee Barrett       66.0   \n",
       "2672        Fulton OurslerHenry DenkerJames Lee Barrett       66.0   \n",
       "\n",
       "                                             Poster-src  Duration (minutes)  \n",
       "2769  https://m.media-amazon.com/images/M/MV5BMmM3Nj...               317.0  \n",
       "2828  https://m.media-amazon.com/images/M/MV5BZjgzNz...               271.0  \n",
       "2572  https://m.media-amazon.com/images/M/MV5BZjliOG...               266.0  \n",
       "301   https://m.media-amazon.com/images/M/MV5BMTU4ND...               260.0  \n",
       "2672  https://m.media-amazon.com/images/M/MV5BMTU4ND...               260.0  "
      ]
     },
     "execution_count": 89,
     "metadata": {},
     "output_type": "execute_result"
    }
   ],
   "source": [
    "sorted_df = movie_set.sort_values(by='Duration (minutes)', ascending=False)\n",
    "sorted_df.head(5)"
   ]
  },
  {
   "cell_type": "code",
   "execution_count": 91,
   "id": "2d208f98-b520-4b06-935c-c79a2e548335",
   "metadata": {},
   "outputs": [
    {
     "data": {
      "text/plain": [
       "Title           2739\n",
       "Certificates      16\n",
       "Genre             17\n",
       "Director        2089\n",
       "Star Cast       2592\n",
       "Poster-src      2623\n",
       "dtype: int64"
      ]
     },
     "execution_count": 91,
     "metadata": {},
     "output_type": "execute_result"
    }
   ],
   "source": [
    "movie_set.select_dtypes(include= 'object').nunique()"
   ]
  },
  {
   "cell_type": "code",
   "execution_count": 94,
   "id": "f70be0b9-bc62-4a50-8d03-1f1ebfb864de",
   "metadata": {},
   "outputs": [
    {
     "data": {
      "text/html": [
       "<div>\n",
       "<style scoped>\n",
       "    .dataframe tbody tr th:only-of-type {\n",
       "        vertical-align: middle;\n",
       "    }\n",
       "\n",
       "    .dataframe tbody tr th {\n",
       "        vertical-align: top;\n",
       "    }\n",
       "\n",
       "    .dataframe thead th {\n",
       "        text-align: right;\n",
       "    }\n",
       "</style>\n",
       "<table border=\"1\" class=\"dataframe\">\n",
       "  <thead>\n",
       "    <tr style=\"text-align: right;\">\n",
       "      <th></th>\n",
       "      <th>Title</th>\n",
       "      <th>IMDb Rating</th>\n",
       "      <th>Year</th>\n",
       "      <th>Certificates</th>\n",
       "      <th>Genre</th>\n",
       "      <th>Director</th>\n",
       "      <th>Star Cast</th>\n",
       "      <th>MetaScore</th>\n",
       "      <th>Poster-src</th>\n",
       "      <th>Duration (minutes)</th>\n",
       "    </tr>\n",
       "  </thead>\n",
       "  <tbody>\n",
       "    <tr>\n",
       "      <th>301</th>\n",
       "      <td>The Greatest Story Ever Told</td>\n",
       "      <td>6.6</td>\n",
       "      <td>1965</td>\n",
       "      <td>G</td>\n",
       "      <td>Biography</td>\n",
       "      <td>George Stevens</td>\n",
       "      <td>Fulton OurslerHenry DenkerJames Lee Barrett</td>\n",
       "      <td>66.0</td>\n",
       "      <td>https://m.media-amazon.com/images/M/MV5BMTU4ND...</td>\n",
       "      <td>260.0</td>\n",
       "    </tr>\n",
       "    <tr>\n",
       "      <th>686</th>\n",
       "      <td>12 Years a Slave</td>\n",
       "      <td>8.1</td>\n",
       "      <td>2013</td>\n",
       "      <td>R</td>\n",
       "      <td>Biography</td>\n",
       "      <td>Steve McQueen</td>\n",
       "      <td>Chiwetel EjioforMichael Kenneth WilliamsMichae...</td>\n",
       "      <td>96.0</td>\n",
       "      <td>https://m.media-amazon.com/images/M/MV5BMjExMT...</td>\n",
       "      <td>134.0</td>\n",
       "    </tr>\n",
       "    <tr>\n",
       "      <th>2572</th>\n",
       "      <td>Occupied City</td>\n",
       "      <td>6.5</td>\n",
       "      <td>2023</td>\n",
       "      <td>PG-13</td>\n",
       "      <td>Documentary</td>\n",
       "      <td>Steve McQueen</td>\n",
       "      <td>Queen Máxima of the NetherlandsKing Willem-Ale...</td>\n",
       "      <td>76.0</td>\n",
       "      <td>https://m.media-amazon.com/images/M/MV5BZjliOG...</td>\n",
       "      <td>266.0</td>\n",
       "    </tr>\n",
       "    <tr>\n",
       "      <th>2672</th>\n",
       "      <td>The Greatest Story Ever Told</td>\n",
       "      <td>6.6</td>\n",
       "      <td>1965</td>\n",
       "      <td>G</td>\n",
       "      <td>Biography</td>\n",
       "      <td>George Stevens</td>\n",
       "      <td>Fulton OurslerHenry DenkerJames Lee Barrett</td>\n",
       "      <td>66.0</td>\n",
       "      <td>https://m.media-amazon.com/images/M/MV5BMTU4ND...</td>\n",
       "      <td>260.0</td>\n",
       "    </tr>\n",
       "    <tr>\n",
       "      <th>2886</th>\n",
       "      <td>12 Years a Slave</td>\n",
       "      <td>8.1</td>\n",
       "      <td>2013</td>\n",
       "      <td>R</td>\n",
       "      <td>Biography</td>\n",
       "      <td>Steve McQueen</td>\n",
       "      <td>Chiwetel EjioforMichael Kenneth WilliamsMichae...</td>\n",
       "      <td>96.0</td>\n",
       "      <td>https://m.media-amazon.com/images/M/MV5BMjExMT...</td>\n",
       "      <td>134.0</td>\n",
       "    </tr>\n",
       "  </tbody>\n",
       "</table>\n",
       "</div>"
      ],
      "text/plain": [
       "                             Title  IMDb Rating  Year Certificates  \\\n",
       "301   The Greatest Story Ever Told          6.6  1965            G   \n",
       "686               12 Years a Slave          8.1  2013            R   \n",
       "2572                 Occupied City          6.5  2023        PG-13   \n",
       "2672  The Greatest Story Ever Told          6.6  1965            G   \n",
       "2886              12 Years a Slave          8.1  2013            R   \n",
       "\n",
       "            Genre        Director  \\\n",
       "301     Biography  George Stevens   \n",
       "686     Biography   Steve McQueen   \n",
       "2572  Documentary   Steve McQueen   \n",
       "2672    Biography  George Stevens   \n",
       "2886    Biography   Steve McQueen   \n",
       "\n",
       "                                              Star Cast  MetaScore  \\\n",
       "301         Fulton OurslerHenry DenkerJames Lee Barrett       66.0   \n",
       "686   Chiwetel EjioforMichael Kenneth WilliamsMichae...       96.0   \n",
       "2572  Queen Máxima of the NetherlandsKing Willem-Ale...       76.0   \n",
       "2672        Fulton OurslerHenry DenkerJames Lee Barrett       66.0   \n",
       "2886  Chiwetel EjioforMichael Kenneth WilliamsMichae...       96.0   \n",
       "\n",
       "                                             Poster-src  Duration (minutes)  \n",
       "301   https://m.media-amazon.com/images/M/MV5BMTU4ND...               260.0  \n",
       "686   https://m.media-amazon.com/images/M/MV5BMjExMT...               134.0  \n",
       "2572  https://m.media-amazon.com/images/M/MV5BZjliOG...               266.0  \n",
       "2672  https://m.media-amazon.com/images/M/MV5BMTU4ND...               260.0  \n",
       "2886  https://m.media-amazon.com/images/M/MV5BMjExMT...               134.0  "
      ]
     },
     "execution_count": 94,
     "metadata": {},
     "output_type": "execute_result"
    }
   ],
   "source": [
    "movie_set[movie_set[\"Director\"].isin([\"George Stevens\",\"Steve McQueen\"])]"
   ]
  },
  {
   "cell_type": "code",
   "execution_count": 95,
   "id": "cad5bd72-3e0c-48ea-bb79-d9a85b10b500",
   "metadata": {},
   "outputs": [
    {
     "data": {
      "text/html": [
       "<div>\n",
       "<style scoped>\n",
       "    .dataframe tbody tr th:only-of-type {\n",
       "        vertical-align: middle;\n",
       "    }\n",
       "\n",
       "    .dataframe tbody tr th {\n",
       "        vertical-align: top;\n",
       "    }\n",
       "\n",
       "    .dataframe thead th {\n",
       "        text-align: right;\n",
       "    }\n",
       "</style>\n",
       "<table border=\"1\" class=\"dataframe\">\n",
       "  <thead>\n",
       "    <tr style=\"text-align: right;\">\n",
       "      <th></th>\n",
       "      <th>Title</th>\n",
       "      <th>IMDb Rating</th>\n",
       "      <th>Year</th>\n",
       "      <th>Certificates</th>\n",
       "      <th>Genre</th>\n",
       "      <th>Director</th>\n",
       "      <th>Star Cast</th>\n",
       "      <th>MetaScore</th>\n",
       "      <th>Poster-src</th>\n",
       "      <th>Duration (minutes)</th>\n",
       "    </tr>\n",
       "  </thead>\n",
       "  <tbody>\n",
       "    <tr>\n",
       "      <th>100</th>\n",
       "      <td>Aline</td>\n",
       "      <td>6.3</td>\n",
       "      <td>2020</td>\n",
       "      <td>PG-13</td>\n",
       "      <td>Biography</td>\n",
       "      <td>Valérie Lemercier</td>\n",
       "      <td>Valérie LemercierSylvain MarcelDanielle Fichaud</td>\n",
       "      <td>53.0</td>\n",
       "      <td>https://m.media-amazon.com/images/M/MV5BNjUxYT...</td>\n",
       "      <td>126.0</td>\n",
       "    </tr>\n",
       "    <tr>\n",
       "      <th>101</th>\n",
       "      <td>Dream Horse</td>\n",
       "      <td>6.9</td>\n",
       "      <td>2020</td>\n",
       "      <td>PG</td>\n",
       "      <td>Biography</td>\n",
       "      <td>Euros Lyn</td>\n",
       "      <td>Toni ColletteOwen TealeAlan David</td>\n",
       "      <td>68.0</td>\n",
       "      <td>https://m.media-amazon.com/images/M/MV5BOTQ5Mm...</td>\n",
       "      <td>113.0</td>\n",
       "    </tr>\n",
       "    <tr>\n",
       "      <th>102</th>\n",
       "      <td>Effie Gray</td>\n",
       "      <td>6.0</td>\n",
       "      <td>2014</td>\n",
       "      <td>PG-13</td>\n",
       "      <td>Biography</td>\n",
       "      <td>Richard Laxton</td>\n",
       "      <td>Dakota FanningGreg WiseTom Sturridge</td>\n",
       "      <td>54.0</td>\n",
       "      <td>https://m.media-amazon.com/images/M/MV5BMjAyNj...</td>\n",
       "      <td>104.0</td>\n",
       "    </tr>\n",
       "    <tr>\n",
       "      <th>103</th>\n",
       "      <td>A United Kingdom</td>\n",
       "      <td>6.9</td>\n",
       "      <td>2016</td>\n",
       "      <td>PG-13</td>\n",
       "      <td>Biography</td>\n",
       "      <td>Amma Asante</td>\n",
       "      <td>David OyelowoRosamund PikeTom Felton</td>\n",
       "      <td>65.0</td>\n",
       "      <td>https://m.media-amazon.com/images/M/MV5BOGRhMj...</td>\n",
       "      <td>111.0</td>\n",
       "    </tr>\n",
       "    <tr>\n",
       "      <th>104</th>\n",
       "      <td>The Dove</td>\n",
       "      <td>6.3</td>\n",
       "      <td>1974</td>\n",
       "      <td>PG</td>\n",
       "      <td>Adventure</td>\n",
       "      <td>Charles Jarrott</td>\n",
       "      <td>Robin Lee GrahamDerek GillPeter S. Beagle</td>\n",
       "      <td>66.0</td>\n",
       "      <td>https://m.media-amazon.com/images/M/MV5BMTk4ZG...</td>\n",
       "      <td>105.0</td>\n",
       "    </tr>\n",
       "    <tr>\n",
       "      <th>...</th>\n",
       "      <td>...</td>\n",
       "      <td>...</td>\n",
       "      <td>...</td>\n",
       "      <td>...</td>\n",
       "      <td>...</td>\n",
       "      <td>...</td>\n",
       "      <td>...</td>\n",
       "      <td>...</td>\n",
       "      <td>...</td>\n",
       "      <td>...</td>\n",
       "    </tr>\n",
       "    <tr>\n",
       "      <th>195</th>\n",
       "      <td>Spare Parts</td>\n",
       "      <td>7.2</td>\n",
       "      <td>2015</td>\n",
       "      <td>PG-13</td>\n",
       "      <td>Biography</td>\n",
       "      <td>Sean McNamara</td>\n",
       "      <td>George LopezJamie Lee CurtisCarlos PenaVega</td>\n",
       "      <td>50.0</td>\n",
       "      <td>https://m.media-amazon.com/images/M/MV5BMTc5Nz...</td>\n",
       "      <td>114.0</td>\n",
       "    </tr>\n",
       "    <tr>\n",
       "      <th>196</th>\n",
       "      <td>The Program</td>\n",
       "      <td>6.5</td>\n",
       "      <td>2015</td>\n",
       "      <td>R</td>\n",
       "      <td>Biography</td>\n",
       "      <td>Stephen Frears</td>\n",
       "      <td>Ben FosterChris O'DowdGuillaume Canet</td>\n",
       "      <td>53.0</td>\n",
       "      <td>https://m.media-amazon.com/images/M/MV5BNDMzMz...</td>\n",
       "      <td>99.0</td>\n",
       "    </tr>\n",
       "    <tr>\n",
       "      <th>197</th>\n",
       "      <td>Loving Pablo</td>\n",
       "      <td>6.4</td>\n",
       "      <td>2017</td>\n",
       "      <td>R</td>\n",
       "      <td>Biography</td>\n",
       "      <td>Fernando León de Aranoa</td>\n",
       "      <td>Fernando León de AranoaMichael ZimbalistJeff Z...</td>\n",
       "      <td>42.0</td>\n",
       "      <td>https://m.media-amazon.com/images/M/MV5BMTAwOD...</td>\n",
       "      <td>123.0</td>\n",
       "    </tr>\n",
       "    <tr>\n",
       "      <th>198</th>\n",
       "      <td>Hollywoodland</td>\n",
       "      <td>6.5</td>\n",
       "      <td>2006</td>\n",
       "      <td>R</td>\n",
       "      <td>Biography</td>\n",
       "      <td>Allen Coulter</td>\n",
       "      <td>Adrien BrodyBen AffleckDiane Lane</td>\n",
       "      <td>62.0</td>\n",
       "      <td>https://m.media-amazon.com/images/M/MV5BMTc4OD...</td>\n",
       "      <td>126.0</td>\n",
       "    </tr>\n",
       "    <tr>\n",
       "      <th>199</th>\n",
       "      <td>Dersu Uzala</td>\n",
       "      <td>8.2</td>\n",
       "      <td>1975</td>\n",
       "      <td>G</td>\n",
       "      <td>Adventure</td>\n",
       "      <td>Akira Kurosawa</td>\n",
       "      <td>Maksim MunzukYuriy SolominMikhail Bychkov</td>\n",
       "      <td>66.0</td>\n",
       "      <td>https://m.media-amazon.com/images/M/MV5BYzY1Ym...</td>\n",
       "      <td>142.0</td>\n",
       "    </tr>\n",
       "  </tbody>\n",
       "</table>\n",
       "<p>100 rows × 10 columns</p>\n",
       "</div>"
      ],
      "text/plain": [
       "                Title  IMDb Rating  Year Certificates      Genre  \\\n",
       "100             Aline          6.3  2020        PG-13  Biography   \n",
       "101       Dream Horse          6.9  2020           PG  Biography   \n",
       "102        Effie Gray          6.0  2014        PG-13  Biography   \n",
       "103  A United Kingdom          6.9  2016        PG-13  Biography   \n",
       "104          The Dove          6.3  1974           PG  Adventure   \n",
       "..                ...          ...   ...          ...        ...   \n",
       "195       Spare Parts          7.2  2015        PG-13  Biography   \n",
       "196       The Program          6.5  2015            R  Biography   \n",
       "197      Loving Pablo          6.4  2017            R  Biography   \n",
       "198     Hollywoodland          6.5  2006            R  Biography   \n",
       "199       Dersu Uzala          8.2  1975            G  Adventure   \n",
       "\n",
       "                    Director  \\\n",
       "100        Valérie Lemercier   \n",
       "101                Euros Lyn   \n",
       "102           Richard Laxton   \n",
       "103              Amma Asante   \n",
       "104          Charles Jarrott   \n",
       "..                       ...   \n",
       "195            Sean McNamara   \n",
       "196           Stephen Frears   \n",
       "197  Fernando León de Aranoa   \n",
       "198            Allen Coulter   \n",
       "199           Akira Kurosawa   \n",
       "\n",
       "                                             Star Cast  MetaScore  \\\n",
       "100    Valérie LemercierSylvain MarcelDanielle Fichaud       53.0   \n",
       "101                  Toni ColletteOwen TealeAlan David       68.0   \n",
       "102               Dakota FanningGreg WiseTom Sturridge       54.0   \n",
       "103               David OyelowoRosamund PikeTom Felton       65.0   \n",
       "104          Robin Lee GrahamDerek GillPeter S. Beagle       66.0   \n",
       "..                                                 ...        ...   \n",
       "195        George LopezJamie Lee CurtisCarlos PenaVega       50.0   \n",
       "196              Ben FosterChris O'DowdGuillaume Canet       53.0   \n",
       "197  Fernando León de AranoaMichael ZimbalistJeff Z...       42.0   \n",
       "198                  Adrien BrodyBen AffleckDiane Lane       62.0   \n",
       "199          Maksim MunzukYuriy SolominMikhail Bychkov       66.0   \n",
       "\n",
       "                                            Poster-src  Duration (minutes)  \n",
       "100  https://m.media-amazon.com/images/M/MV5BNjUxYT...               126.0  \n",
       "101  https://m.media-amazon.com/images/M/MV5BOTQ5Mm...               113.0  \n",
       "102  https://m.media-amazon.com/images/M/MV5BMjAyNj...               104.0  \n",
       "103  https://m.media-amazon.com/images/M/MV5BOGRhMj...               111.0  \n",
       "104  https://m.media-amazon.com/images/M/MV5BMTk4ZG...               105.0  \n",
       "..                                                 ...                 ...  \n",
       "195  https://m.media-amazon.com/images/M/MV5BMTc5Nz...               114.0  \n",
       "196  https://m.media-amazon.com/images/M/MV5BNDMzMz...                99.0  \n",
       "197  https://m.media-amazon.com/images/M/MV5BMTAwOD...               123.0  \n",
       "198  https://m.media-amazon.com/images/M/MV5BMTc4OD...               126.0  \n",
       "199  https://m.media-amazon.com/images/M/MV5BYzY1Ym...               142.0  \n",
       "\n",
       "[100 rows x 10 columns]"
      ]
     },
     "execution_count": 95,
     "metadata": {},
     "output_type": "execute_result"
    }
   ],
   "source": [
    "movie_set[movie_set.index.isin(range(100,200))]"
   ]
  },
  {
   "cell_type": "code",
   "execution_count": 96,
   "id": "e9e12878-4500-4838-a690-68a69de5bc57",
   "metadata": {},
   "outputs": [
    {
     "data": {
      "text/html": [
       "<div>\n",
       "<style scoped>\n",
       "    .dataframe tbody tr th:only-of-type {\n",
       "        vertical-align: middle;\n",
       "    }\n",
       "\n",
       "    .dataframe tbody tr th {\n",
       "        vertical-align: top;\n",
       "    }\n",
       "\n",
       "    .dataframe thead th {\n",
       "        text-align: right;\n",
       "    }\n",
       "</style>\n",
       "<table border=\"1\" class=\"dataframe\">\n",
       "  <thead>\n",
       "    <tr style=\"text-align: right;\">\n",
       "      <th></th>\n",
       "      <th>Title</th>\n",
       "      <th>IMDb Rating</th>\n",
       "      <th>Year</th>\n",
       "      <th>Certificates</th>\n",
       "      <th>Genre</th>\n",
       "      <th>Director</th>\n",
       "      <th>Star Cast</th>\n",
       "      <th>MetaScore</th>\n",
       "      <th>Poster-src</th>\n",
       "      <th>Duration (minutes)</th>\n",
       "    </tr>\n",
       "  </thead>\n",
       "  <tbody>\n",
       "    <tr>\n",
       "      <th>100</th>\n",
       "      <td>Aline</td>\n",
       "      <td>6.3</td>\n",
       "      <td>2020</td>\n",
       "      <td>PG-13</td>\n",
       "      <td>Biography</td>\n",
       "      <td>Valérie Lemercier</td>\n",
       "      <td>Valérie LemercierSylvain MarcelDanielle Fichaud</td>\n",
       "      <td>53.0</td>\n",
       "      <td>https://m.media-amazon.com/images/M/MV5BNjUxYT...</td>\n",
       "      <td>126.0</td>\n",
       "    </tr>\n",
       "  </tbody>\n",
       "</table>\n",
       "</div>"
      ],
      "text/plain": [
       "     Title  IMDb Rating  Year Certificates      Genre           Director  \\\n",
       "100  Aline          6.3  2020        PG-13  Biography  Valérie Lemercier   \n",
       "\n",
       "                                           Star Cast  MetaScore  \\\n",
       "100  Valérie LemercierSylvain MarcelDanielle Fichaud       53.0   \n",
       "\n",
       "                                            Poster-src  Duration (minutes)  \n",
       "100  https://m.media-amazon.com/images/M/MV5BNjUxYT...               126.0  "
      ]
     },
     "execution_count": 96,
     "metadata": {},
     "output_type": "execute_result"
    }
   ],
   "source": [
    "movie_set[movie_set.index == 100]"
   ]
  },
  {
   "cell_type": "code",
   "execution_count": 102,
   "id": "de31088f-6cf3-4d93-bb55-4f79b35b92e8",
   "metadata": {},
   "outputs": [
    {
     "data": {
      "text/html": [
       "<div>\n",
       "<style scoped>\n",
       "    .dataframe tbody tr th:only-of-type {\n",
       "        vertical-align: middle;\n",
       "    }\n",
       "\n",
       "    .dataframe tbody tr th {\n",
       "        vertical-align: top;\n",
       "    }\n",
       "\n",
       "    .dataframe thead th {\n",
       "        text-align: right;\n",
       "    }\n",
       "</style>\n",
       "<table border=\"1\" class=\"dataframe\">\n",
       "  <thead>\n",
       "    <tr style=\"text-align: right;\">\n",
       "      <th></th>\n",
       "      <th>Title</th>\n",
       "      <th>IMDb Rating</th>\n",
       "      <th>Year</th>\n",
       "      <th>Certificates</th>\n",
       "      <th>Genre</th>\n",
       "      <th>Director</th>\n",
       "      <th>Star Cast</th>\n",
       "      <th>MetaScore</th>\n",
       "      <th>Poster-src</th>\n",
       "      <th>Duration (minutes)</th>\n",
       "    </tr>\n",
       "  </thead>\n",
       "  <tbody>\n",
       "    <tr>\n",
       "      <th>1</th>\n",
       "      <td>Elvira Madigan</td>\n",
       "      <td>7.0</td>\n",
       "      <td>1967</td>\n",
       "      <td>PG</td>\n",
       "      <td>Biography</td>\n",
       "      <td>Bo Widerberg</td>\n",
       "      <td>Pia DegermarkThommy BerggrenLennart Malmer</td>\n",
       "      <td>66.0</td>\n",
       "      <td>https://m.media-amazon.com/images/M/MV5BMmY2Nj...</td>\n",
       "      <td>91.0</td>\n",
       "    </tr>\n",
       "    <tr>\n",
       "      <th>2</th>\n",
       "      <td>The Kid Stays in the Picture</td>\n",
       "      <td>7.3</td>\n",
       "      <td>2002</td>\n",
       "      <td>R</td>\n",
       "      <td>Documentary</td>\n",
       "      <td>Nanette Burstein</td>\n",
       "      <td>Robert EvansEddie AlbertPeter Bart</td>\n",
       "      <td>75.0</td>\n",
       "      <td>https://m.media-amazon.com/images/M/MV5BZjhiZm...</td>\n",
       "      <td>93.0</td>\n",
       "    </tr>\n",
       "    <tr>\n",
       "      <th>3</th>\n",
       "      <td>It Ain't Over</td>\n",
       "      <td>8.2</td>\n",
       "      <td>2022</td>\n",
       "      <td>PG</td>\n",
       "      <td>Documentary</td>\n",
       "      <td>Sean Mullin</td>\n",
       "      <td>Andy AndresRoger AngellMarty Appel</td>\n",
       "      <td>79.0</td>\n",
       "      <td>https://m.media-amazon.com/images/M/MV5BZWViYW...</td>\n",
       "      <td>99.0</td>\n",
       "    </tr>\n",
       "    <tr>\n",
       "      <th>9</th>\n",
       "      <td>Georgetown</td>\n",
       "      <td>6.2</td>\n",
       "      <td>2019</td>\n",
       "      <td>R</td>\n",
       "      <td>Biography</td>\n",
       "      <td>Christoph Waltz</td>\n",
       "      <td>Christoph WaltzVanessa RedgraveAnnette Bening</td>\n",
       "      <td>49.0</td>\n",
       "      <td>https://m.media-amazon.com/images/M/MV5BMmZlMz...</td>\n",
       "      <td>99.0</td>\n",
       "    </tr>\n",
       "    <tr>\n",
       "      <th>10</th>\n",
       "      <td>Miles Ahead</td>\n",
       "      <td>6.4</td>\n",
       "      <td>2015</td>\n",
       "      <td>R</td>\n",
       "      <td>Biography</td>\n",
       "      <td>Don Cheadle</td>\n",
       "      <td>Steven BaigelmanDon CheadleStephen J. Rivele</td>\n",
       "      <td>64.0</td>\n",
       "      <td>https://m.media-amazon.com/images/M/MV5BYTU5ND...</td>\n",
       "      <td>100.0</td>\n",
       "    </tr>\n",
       "    <tr>\n",
       "      <th>...</th>\n",
       "      <td>...</td>\n",
       "      <td>...</td>\n",
       "      <td>...</td>\n",
       "      <td>...</td>\n",
       "      <td>...</td>\n",
       "      <td>...</td>\n",
       "      <td>...</td>\n",
       "      <td>...</td>\n",
       "      <td>...</td>\n",
       "      <td>...</td>\n",
       "    </tr>\n",
       "    <tr>\n",
       "      <th>3117</th>\n",
       "      <td>City Lights</td>\n",
       "      <td>8.5</td>\n",
       "      <td>1931</td>\n",
       "      <td>G</td>\n",
       "      <td>Comedy</td>\n",
       "      <td>Charles Chaplin</td>\n",
       "      <td>Charles ChaplinVirginia CherrillFlorence Lee</td>\n",
       "      <td>99.0</td>\n",
       "      <td>https://m.media-amazon.com/images/M/MV5BY2I4Mm...</td>\n",
       "      <td>87.0</td>\n",
       "    </tr>\n",
       "    <tr>\n",
       "      <th>3118</th>\n",
       "      <td>Modern Times</td>\n",
       "      <td>8.5</td>\n",
       "      <td>1936</td>\n",
       "      <td>G</td>\n",
       "      <td>Comedy</td>\n",
       "      <td>Charles Chaplin</td>\n",
       "      <td>Charles ChaplinPaulette GoddardHenry Bergman</td>\n",
       "      <td>96.0</td>\n",
       "      <td>https://m.media-amazon.com/images/M/MV5BM2VlMj...</td>\n",
       "      <td>87.0</td>\n",
       "    </tr>\n",
       "    <tr>\n",
       "      <th>3120</th>\n",
       "      <td>Grave of the Fireflies</td>\n",
       "      <td>8.5</td>\n",
       "      <td>1988</td>\n",
       "      <td>Not Rated</td>\n",
       "      <td>Animation</td>\n",
       "      <td>Isao Takahata</td>\n",
       "      <td>Tsutomu TatsumiAyano ShiraishiAkemi Yamaguchi</td>\n",
       "      <td>94.0</td>\n",
       "      <td>https://m.media-amazon.com/images/M/MV5BZmY2Nj...</td>\n",
       "      <td>89.0</td>\n",
       "    </tr>\n",
       "    <tr>\n",
       "      <th>3128</th>\n",
       "      <td>The Lion King</td>\n",
       "      <td>8.5</td>\n",
       "      <td>1994</td>\n",
       "      <td>G</td>\n",
       "      <td>Animation</td>\n",
       "      <td>Roger Allers</td>\n",
       "      <td>Irene MecchiJonathan RobertsLinda Woolverton</td>\n",
       "      <td>88.0</td>\n",
       "      <td>https://m.media-amazon.com/images/M/MV5BYTYxNG...</td>\n",
       "      <td>88.0</td>\n",
       "    </tr>\n",
       "    <tr>\n",
       "      <th>3167</th>\n",
       "      <td>12 Angry Men</td>\n",
       "      <td>9.0</td>\n",
       "      <td>1957</td>\n",
       "      <td>Approved</td>\n",
       "      <td>Crime</td>\n",
       "      <td>Sidney Lumet</td>\n",
       "      <td>Reginald Rose</td>\n",
       "      <td>97.0</td>\n",
       "      <td>https://m.media-amazon.com/images/M/MV5BMWU4N2...</td>\n",
       "      <td>96.0</td>\n",
       "    </tr>\n",
       "  </tbody>\n",
       "</table>\n",
       "<p>592 rows × 10 columns</p>\n",
       "</div>"
      ],
      "text/plain": [
       "                             Title  IMDb Rating  Year Certificates  \\\n",
       "1                   Elvira Madigan          7.0  1967           PG   \n",
       "2     The Kid Stays in the Picture          7.3  2002            R   \n",
       "3                    It Ain't Over          8.2  2022           PG   \n",
       "9                       Georgetown          6.2  2019            R   \n",
       "10                     Miles Ahead          6.4  2015            R   \n",
       "...                            ...          ...   ...          ...   \n",
       "3117                   City Lights          8.5  1931            G   \n",
       "3118                  Modern Times          8.5  1936            G   \n",
       "3120        Grave of the Fireflies          8.5  1988    Not Rated   \n",
       "3128                 The Lion King          8.5  1994            G   \n",
       "3167                  12 Angry Men          9.0  1957     Approved   \n",
       "\n",
       "            Genre          Director  \\\n",
       "1       Biography      Bo Widerberg   \n",
       "2     Documentary  Nanette Burstein   \n",
       "3     Documentary       Sean Mullin   \n",
       "9       Biography   Christoph Waltz   \n",
       "10      Biography       Don Cheadle   \n",
       "...           ...               ...   \n",
       "3117       Comedy   Charles Chaplin   \n",
       "3118       Comedy   Charles Chaplin   \n",
       "3120    Animation     Isao Takahata   \n",
       "3128    Animation      Roger Allers   \n",
       "3167        Crime      Sidney Lumet   \n",
       "\n",
       "                                          Star Cast  MetaScore  \\\n",
       "1        Pia DegermarkThommy BerggrenLennart Malmer       66.0   \n",
       "2                Robert EvansEddie AlbertPeter Bart       75.0   \n",
       "3                Andy AndresRoger AngellMarty Appel       79.0   \n",
       "9     Christoph WaltzVanessa RedgraveAnnette Bening       49.0   \n",
       "10     Steven BaigelmanDon CheadleStephen J. Rivele       64.0   \n",
       "...                                             ...        ...   \n",
       "3117   Charles ChaplinVirginia CherrillFlorence Lee       99.0   \n",
       "3118   Charles ChaplinPaulette GoddardHenry Bergman       96.0   \n",
       "3120  Tsutomu TatsumiAyano ShiraishiAkemi Yamaguchi       94.0   \n",
       "3128   Irene MecchiJonathan RobertsLinda Woolverton       88.0   \n",
       "3167                                  Reginald Rose       97.0   \n",
       "\n",
       "                                             Poster-src  Duration (minutes)  \n",
       "1     https://m.media-amazon.com/images/M/MV5BMmY2Nj...                91.0  \n",
       "2     https://m.media-amazon.com/images/M/MV5BZjhiZm...                93.0  \n",
       "3     https://m.media-amazon.com/images/M/MV5BZWViYW...                99.0  \n",
       "9     https://m.media-amazon.com/images/M/MV5BMmZlMz...                99.0  \n",
       "10    https://m.media-amazon.com/images/M/MV5BYTU5ND...               100.0  \n",
       "...                                                 ...                 ...  \n",
       "3117  https://m.media-amazon.com/images/M/MV5BY2I4Mm...                87.0  \n",
       "3118  https://m.media-amazon.com/images/M/MV5BM2VlMj...                87.0  \n",
       "3120  https://m.media-amazon.com/images/M/MV5BZmY2Nj...                89.0  \n",
       "3128  https://m.media-amazon.com/images/M/MV5BYTYxNG...                88.0  \n",
       "3167  https://m.media-amazon.com/images/M/MV5BMWU4N2...                96.0  \n",
       "\n",
       "[592 rows x 10 columns]"
      ]
     },
     "execution_count": 102,
     "metadata": {},
     "output_type": "execute_result"
    }
   ],
   "source": [
    "movie_set[movie_set[\"Duration (minutes)\"]<=100]\n",
    "\n"
   ]
  },
  {
   "cell_type": "code",
   "execution_count": null,
   "id": "80dabccb-8380-4399-b9d2-8d26a8ab4670",
   "metadata": {},
   "outputs": [],
   "source": []
  },
  {
   "cell_type": "code",
   "execution_count": 146,
   "id": "54c05c24-b17e-4687-8726-bd8736e40d0b",
   "metadata": {},
   "outputs": [],
   "source": [
    "movie_set.rename(columns={\"IMDb Rating\":\"IMDbRating\"},inplace =True)"
   ]
  },
  {
   "cell_type": "code",
   "execution_count": 147,
   "id": "de9d7697-b07e-448b-954f-2755747ae7a1",
   "metadata": {},
   "outputs": [
    {
     "data": {
      "text/html": [
       "<div>\n",
       "<style scoped>\n",
       "    .dataframe tbody tr th:only-of-type {\n",
       "        vertical-align: middle;\n",
       "    }\n",
       "\n",
       "    .dataframe tbody tr th {\n",
       "        vertical-align: top;\n",
       "    }\n",
       "\n",
       "    .dataframe thead th {\n",
       "        text-align: right;\n",
       "    }\n",
       "</style>\n",
       "<table border=\"1\" class=\"dataframe\">\n",
       "  <thead>\n",
       "    <tr style=\"text-align: right;\">\n",
       "      <th></th>\n",
       "      <th>Title</th>\n",
       "      <th>IMDbRating</th>\n",
       "      <th>Year</th>\n",
       "      <th>Certificates</th>\n",
       "      <th>Genre</th>\n",
       "      <th>Director</th>\n",
       "      <th>Star Cast</th>\n",
       "      <th>MetaScore</th>\n",
       "      <th>Poster-src</th>\n",
       "      <th>TimeDuration</th>\n",
       "    </tr>\n",
       "  </thead>\n",
       "  <tbody>\n",
       "    <tr>\n",
       "      <th>0</th>\n",
       "      <td>End of the Spear</td>\n",
       "      <td>6.8</td>\n",
       "      <td>2005</td>\n",
       "      <td>PG-13</td>\n",
       "      <td>Adventure</td>\n",
       "      <td>Jim Hanon</td>\n",
       "      <td>Louie LeonardoChad AllenJack Guzman</td>\n",
       "      <td>45.0</td>\n",
       "      <td>https://m.media-amazon.com/images/M/MV5BMTYxOT...</td>\n",
       "      <td>108.0</td>\n",
       "    </tr>\n",
       "    <tr>\n",
       "      <th>1</th>\n",
       "      <td>Elvira Madigan</td>\n",
       "      <td>7.0</td>\n",
       "      <td>1967</td>\n",
       "      <td>PG</td>\n",
       "      <td>Biography</td>\n",
       "      <td>Bo Widerberg</td>\n",
       "      <td>Pia DegermarkThommy BerggrenLennart Malmer</td>\n",
       "      <td>66.0</td>\n",
       "      <td>https://m.media-amazon.com/images/M/MV5BMmY2Nj...</td>\n",
       "      <td>91.0</td>\n",
       "    </tr>\n",
       "  </tbody>\n",
       "</table>\n",
       "</div>"
      ],
      "text/plain": [
       "              Title  IMDbRating  Year Certificates      Genre      Director  \\\n",
       "0  End of the Spear         6.8  2005        PG-13  Adventure     Jim Hanon   \n",
       "1    Elvira Madigan         7.0  1967           PG  Biography  Bo Widerberg   \n",
       "\n",
       "                                    Star Cast  MetaScore  \\\n",
       "0         Louie LeonardoChad AllenJack Guzman       45.0   \n",
       "1  Pia DegermarkThommy BerggrenLennart Malmer       66.0   \n",
       "\n",
       "                                          Poster-src  TimeDuration  \n",
       "0  https://m.media-amazon.com/images/M/MV5BMTYxOT...         108.0  \n",
       "1  https://m.media-amazon.com/images/M/MV5BMmY2Nj...          91.0  "
      ]
     },
     "execution_count": 147,
     "metadata": {},
     "output_type": "execute_result"
    }
   ],
   "source": [
    "movie_set.head(2)"
   ]
  },
  {
   "cell_type": "markdown",
   "id": "7993ea6f-27f0-4e24-9c1c-d62d864fdb6c",
   "metadata": {},
   "source": [
    "# Visualization"
   ]
  },
  {
   "cell_type": "code",
   "execution_count": 151,
   "id": "7a1afaeb-9f5f-463a-8e97-1117e87f3717",
   "metadata": {},
   "outputs": [
    {
     "data": {
      "text/plain": [
       "array([6.8, 7. , 7.3, 8.2, 7.4, 6.7, 6.2, 6.4, 8. , 6. , 6.6, 7.8, 7.2,\n",
       "       6.5, 7.5, 6.1, 7.6, 7.7, 7.1, 6.3, 8.3, 7.9, 8.9, 6.9, 8.1, 8.4,\n",
       "       8.5, 8.7, 9. , 8.6, 5.9, 5.8, 4.7, 4.6, 5. , 5.5, 8.8, 5.2, 5.6,\n",
       "       5.4, 5.3, 5.7, 5.1, 9.2, 9.5, 4.9, 3.9, 9.3])"
      ]
     },
     "execution_count": 151,
     "metadata": {},
     "output_type": "execute_result"
    }
   ],
   "source": [
    "movie_set.IMDbRating.unique()"
   ]
  },
  {
   "cell_type": "code",
   "execution_count": 103,
   "id": "74ee5c4a-00cf-4fcb-b753-15e35ae474cc",
   "metadata": {},
   "outputs": [],
   "source": [
    "plt.style.use('bmh')\n",
    "movie_set = pd.read_csv(r\"C:\\Users\\91988\\Downloads\\data scientist\\Movie_Analysis.csv\")"
   ]
  },
  {
   "cell_type": "code",
   "execution_count": 117,
   "id": "7cbb3a26-1d04-46a2-9958-458423c5e28f",
   "metadata": {},
   "outputs": [
    {
     "data": {
      "text/plain": [
       "<BarContainer object of 3173 artists>"
      ]
     },
     "execution_count": 117,
     "metadata": {},
     "output_type": "execute_result"
    },
    {
     "data": {
      "image/png": "[encoded data removed]",
      "text/plain": [
       "<Figure size 640x480 with 1 Axes>"
      ]
     },
     "metadata": {},
     "output_type": "display_data"
    }
   ],
   "source": [
    "Genre=['Adventure', 'Biography', 'Documentary', 'Action', 'Animation']\n",
    "x = movie_set[\"Genre\"]\n",
    "y = movie_set[\"MetaScore\"]\n",
    "plt.xlabel('Genre',fontsize=20)\n",
    "plt.ylabel('MetaScore', fontsize=24)\n",
    "plt.bar(x,y)"
   ]
  },
  {
   "cell_type": "code",
   "execution_count": 118,
   "id": "54c7dfbe-2c88-4ef0-ae3a-fbc1504acd83",
   "metadata": {},
   "outputs": [],
   "source": [
    "sns.set(color_codes=True)"
   ]
  },
  {
   "cell_type": "code",
   "execution_count": 119,
   "id": "60c5a8d2-b642-44ec-a7bd-4933e23ae8a6",
   "metadata": {},
   "outputs": [
    {
     "name": "stdout",
     "output_type": "stream",
     "text": [
      "<class 'pandas.core.frame.DataFrame'>\n",
      "RangeIndex: 3173 entries, 0 to 3172\n",
      "Data columns (total 10 columns):\n",
      " #   Column              Non-Null Count  Dtype  \n",
      "---  ------              --------------  -----  \n",
      " 0   Title               3173 non-null   object \n",
      " 1   IMDb Rating         3173 non-null   float64\n",
      " 2   Year                3173 non-null   int64  \n",
      " 3   Certificates        3173 non-null   object \n",
      " 4   Genre               3173 non-null   object \n",
      " 5   Director            3173 non-null   object \n",
      " 6   Star Cast           3173 non-null   object \n",
      " 7   MetaScore           3173 non-null   float64\n",
      " 8   Poster-src          3173 non-null   object \n",
      " 9   Duration (minutes)  3173 non-null   float64\n",
      "dtypes: float64(3), int64(1), object(6)\n",
      "memory usage: 248.0+ KB\n"
     ]
    }
   ],
   "source": [
    "movie_set.info()"
   ]
  },
  {
   "cell_type": "markdown",
   "id": "7a3aaec2-982a-4947-b377-7e4b80dfba3d",
   "metadata": {},
   "source": [
    "# Distplot()"
   ]
  },
  {
   "cell_type": "code",
   "execution_count": 120,
   "id": "3fbb93ab-699f-4944-b1ec-a43aa46af6b6",
   "metadata": {},
   "outputs": [
    {
     "data": {
      "text/plain": [
       "<seaborn.axisgrid.FacetGrid at 0x25234909c90>"
      ]
     },
     "execution_count": 120,
     "metadata": {},
     "output_type": "execute_result"
    },
    {
     "data": {
      "image/png": "[encoded data removed]",
      "text/plain": [
       "<Figure size 500x500 with 1 Axes>"
      ]
     },
     "metadata": {},
     "output_type": "display_data"
    }
   ],
   "source": [
    "# Distplot()\n",
    "sns.displot(movie_set[\"Duration (minutes)\"])"
   ]
  },
  {
   "cell_type": "code",
   "execution_count": 121,
   "id": "454ef3b1-7fad-4d84-bd0c-e5fe04bbbc1c",
   "metadata": {},
   "outputs": [
    {
     "data": {
      "text/plain": [
       "<Axes: xlabel='MetaScore', ylabel='Density'>"
      ]
     },
     "execution_count": 121,
     "metadata": {},
     "output_type": "execute_result"
    },
    {
     "data": {
      "image/png": "[encoded data removed]",
      "text/plain": [
       "<Figure size 640x480 with 1 Axes>"
      ]
     },
     "metadata": {},
     "output_type": "display_data"
    }
   ],
   "source": [
    "sns.distplot(movie_set['MetaScore'])"
   ]
  },
  {
   "cell_type": "code",
   "execution_count": 123,
   "id": "fed4a01e-f98c-4a95-8136-d9dd6156094b",
   "metadata": {},
   "outputs": [
    {
     "data": {
      "image/png": "[encoded data removed]",
      "text/plain": [
       "<Figure size 640x480 with 1 Axes>"
      ]
     },
     "metadata": {},
     "output_type": "display_data"
    }
   ],
   "source": [
    "movie_set = np.random.randn(150)\n",
    "xyz = pd.Series(movie_set,name=\"MetaScore\")\n",
    "plot = sns.distplot(xyz,kde=True)\n",
    "plt.show()"
   ]
  },
  {
   "cell_type": "code",
   "execution_count": 131,
   "id": "320c1229-a521-47bd-992a-e964019caa6f",
   "metadata": {},
   "outputs": [
    {
     "data": {
      "image/png": "[encoded data removed]",
      "text/plain": [
       "<Figure size 640x480 with 1 Axes>"
      ]
     },
     "metadata": {},
     "output_type": "display_data"
    }
   ],
   "source": [
    "data = pd.DataFrame(movie_set) \n",
    "  \n",
    "X = list(movie_set.iloc[:, 0]) \n",
    "Y = list(movie_set.iloc[:, 1]) \n",
    "  \n",
    "# Plot the data using bar() method \n",
    "plt.bar(X, Y, color='g') \n",
    "plt.title(\"Movie Details\") \n",
    "plt.xlabel(\"Director\") \n",
    "plt.ylabel(\"Year \") \n",
    "  \n",
    "# Show the plot \n",
    "plt.show() "
   ]
  },
  {
   "cell_type": "markdown",
   "id": "abbb6819-c2c1-4f9d-9031-c17f9c3ab341",
   "metadata": {},
   "source": [
    "# Histplot()"
   ]
  },
  {
   "cell_type": "code",
   "execution_count": 133,
   "id": "f2f9a87f-1ae8-4016-9e3a-628fa95073d3",
   "metadata": {},
   "outputs": [
    {
     "data": {
      "text/plain": [
       "<Axes: xlabel='Director', ylabel='Count'>"
      ]
     },
     "execution_count": 133,
     "metadata": {},
     "output_type": "execute_result"
    },
    {
     "data": {
      "image/png": "[encoded data removed]",
      "text/plain": [
       "<Figure size 640x480 with 1 Axes>"
      ]
     },
     "metadata": {},
     "output_type": "display_data"
    }
   ],
   "source": [
    "sns.histplot(movie_set[\"\"])"
   ]
  },
  {
   "cell_type": "code",
   "execution_count": 174,
   "id": "de1de57a-b1f0-4d16-a6b9-dbb1e687a4cd",
   "metadata": {},
   "outputs": [
    {
     "data": {
      "text/html": [
       "<div>\n",
       "<style scoped>\n",
       "    .dataframe tbody tr th:only-of-type {\n",
       "        vertical-align: middle;\n",
       "    }\n",
       "\n",
       "    .dataframe tbody tr th {\n",
       "        vertical-align: top;\n",
       "    }\n",
       "\n",
       "    .dataframe thead th {\n",
       "        text-align: right;\n",
       "    }\n",
       "</style>\n",
       "<table border=\"1\" class=\"dataframe\">\n",
       "  <thead>\n",
       "    <tr style=\"text-align: right;\">\n",
       "      <th></th>\n",
       "      <th>Title</th>\n",
       "      <th>IMDbRating</th>\n",
       "      <th>Year</th>\n",
       "      <th>Certificates</th>\n",
       "      <th>Genre</th>\n",
       "      <th>Director</th>\n",
       "      <th>Star Cast</th>\n",
       "      <th>MetaScore</th>\n",
       "      <th>Poster-src</th>\n",
       "      <th>TimeDuration</th>\n",
       "    </tr>\n",
       "  </thead>\n",
       "  <tbody>\n",
       "    <tr>\n",
       "      <th>0</th>\n",
       "      <td>End of the Spear</td>\n",
       "      <td>6.8</td>\n",
       "      <td>2005</td>\n",
       "      <td>PG-13</td>\n",
       "      <td>Adventure</td>\n",
       "      <td>Jim Hanon</td>\n",
       "      <td>Louie LeonardoChad AllenJack Guzman</td>\n",
       "      <td>45.0</td>\n",
       "      <td>https://m.media-amazon.com/images/M/MV5BMTYxOT...</td>\n",
       "      <td>108.0</td>\n",
       "    </tr>\n",
       "    <tr>\n",
       "      <th>1</th>\n",
       "      <td>Elvira Madigan</td>\n",
       "      <td>7.0</td>\n",
       "      <td>1967</td>\n",
       "      <td>PG</td>\n",
       "      <td>Biography</td>\n",
       "      <td>Bo Widerberg</td>\n",
       "      <td>Pia DegermarkThommy BerggrenLennart Malmer</td>\n",
       "      <td>66.0</td>\n",
       "      <td>https://m.media-amazon.com/images/M/MV5BMmY2Nj...</td>\n",
       "      <td>91.0</td>\n",
       "    </tr>\n",
       "  </tbody>\n",
       "</table>\n",
       "</div>"
      ],
      "text/plain": [
       "              Title  IMDbRating  Year Certificates      Genre      Director  \\\n",
       "0  End of the Spear         6.8  2005        PG-13  Adventure     Jim Hanon   \n",
       "1    Elvira Madigan         7.0  1967           PG  Biography  Bo Widerberg   \n",
       "\n",
       "                                    Star Cast  MetaScore  \\\n",
       "0         Louie LeonardoChad AllenJack Guzman       45.0   \n",
       "1  Pia DegermarkThommy BerggrenLennart Malmer       66.0   \n",
       "\n",
       "                                          Poster-src  TimeDuration  \n",
       "0  https://m.media-amazon.com/images/M/MV5BMTYxOT...         108.0  \n",
       "1  https://m.media-amazon.com/images/M/MV5BMmY2Nj...          91.0  "
      ]
     },
     "execution_count": 174,
     "metadata": {},
     "output_type": "execute_result"
    }
   ],
   "source": [
    "movie_set.head(2)"
   ]
  },
  {
   "cell_type": "code",
   "execution_count": 166,
   "id": "b82b7fb3-f5e6-4ee7-aaa7-ae68903fb5a4",
   "metadata": {},
   "outputs": [
    {
     "name": "stdout",
     "output_type": "stream",
     "text": [
      "Certificates\n",
      "R            1802\n",
      "PG-13         652\n",
      "PG            473\n",
      "Not Rated      95\n",
      "G              93\n",
      "Approved       14\n",
      "NC-17          10\n",
      "TV-14          10\n",
      "Unrated         7\n",
      "TV-MA           6\n",
      "TV-PG           3\n",
      "TV-Y7           3\n",
      "M/PG            2\n",
      "X               1\n",
      "Passed          1\n",
      "TV-G            1\n",
      "Name: count, dtype: int64\n"
     ]
    }
   ],
   "source": [
    "Z=movie_set['Certificates'].value_counts()\n",
    "print(Z)"
   ]
  },
  {
   "cell_type": "code",
   "execution_count": 167,
   "id": "01e9c8f0-8c18-4b0b-be48-815c1a5ed94c",
   "metadata": {},
   "outputs": [
    {
     "data": {
      "text/plain": [
       "pandas.core.series.Series"
      ]
     },
     "execution_count": 167,
     "metadata": {},
     "output_type": "execute_result"
    }
   ],
   "source": [
    "type(Z)"
   ]
  },
  {
   "cell_type": "markdown",
   "id": "1405bd5f-11d3-496d-949d-8d0c4bd7d88e",
   "metadata": {},
   "source": [
    "# Donut Chart:\n",
    "Donut chart is a modified pie chart,with an area from center cut out."
   ]
  },
  {
   "cell_type": "code",
   "execution_count": 172,
   "id": "e8568e4d-ba42-4a0d-a39c-d941413f2567",
   "metadata": {},
   "outputs": [
    {
     "data": {
      "image/png": "[encoded data removed]",
      "text/plain": [
       "<Figure size 640x480 with 1 Axes>"
      ]
     },
     "metadata": {},
     "output_type": "display_data"
    }
   ],
   "source": [
    "Z = data['MetaScore'].head(5)\n",
    "\n",
    "# Plotting the pie chart\n",
    "plt.pie(Z, labels=Z, autopct='%1.1f%%', startangle=150,shadow=True,radius=1,pctdistance =0.75)\n",
    "plt.title(\"Pie chart for year and Genre\t\")\n",
    "plt.show()"
   ]
  },
  {
   "cell_type": "markdown",
   "id": "38989020-5270-4c6d-b346-f01ae9ccfe93",
   "metadata": {},
   "source": [
    "# CountPlot()"
   ]
  },
  {
   "cell_type": "code",
   "execution_count": null,
   "id": "9e4afd44-5a83-41b2-b7a6-bf1b91ef632e",
   "metadata": {},
   "outputs": [],
   "source": []
  },
  {
   "cell_type": "code",
   "execution_count": 179,
   "id": "8fd2e954-0106-4740-bfe9-076a392ade1f",
   "metadata": {},
   "outputs": [],
   "source": [
    "#Drawing the countplot for the column 'DiscountsAvailed' from the dataset using seaborm libarty"
   ]
  },
  {
   "cell_type": "code",
   "execution_count": 184,
   "id": "195675bb-b396-4437-b985-44da8c4ff77b",
   "metadata": {},
   "outputs": [
    {
     "data": {
      "image/png": "[encoded data removed]",
      "text/plain": [
       "<Figure size 500x300 with 1 Axes>"
      ]
     },
     "metadata": {},
     "output_type": "display_data"
    }
   ],
   "source": [
    "plt.figure(figsize=(5,3))\n",
    "sns.countplot(movie_set['TimeDuration']);\n",
    "\n",
    "plt.xticks(fontsize = 10)\n",
    "plt.yticks(fontsize=10)\n",
    "\n",
    "plt.show()"
   ]
  },
  {
   "cell_type": "code",
   "execution_count": 198,
   "id": "eadb003a-14f9-4368-aa81-7c4399367de9",
   "metadata": {},
   "outputs": [
    {
     "data": {
      "text/plain": [
       "<Axes: xlabel='Certificates', ylabel='count'>"
      ]
     },
     "execution_count": 198,
     "metadata": {},
     "output_type": "execute_result"
    },
    {
     "data": {
      "image/png": "[encoded data removed]",
      "text/plain": [
       "<Figure size 640x480 with 1 Axes>"
      ]
     },
     "metadata": {},
     "output_type": "display_data"
    }
   ],
   "source": [
    "dt=movie_set[movie_set.index.isin(range(2,10))]\n",
    "sns.countplot(x='Certificates', data=dt)"
   ]
  },
  {
   "cell_type": "markdown",
   "id": "35c0c4b0-117a-429b-99b3-8966dc885f5a",
   "metadata": {},
   "source": [
    "# LinePlot()"
   ]
  },
  {
   "cell_type": "code",
   "execution_count": 199,
   "id": "8f569523-a9ca-4bb8-aa02-de158c6d4f21",
   "metadata": {},
   "outputs": [
    {
     "data": {
      "text/plain": [
       "<Axes: xlabel='Certificates', ylabel='Year'>"
      ]
     },
     "execution_count": 199,
     "metadata": {},
     "output_type": "execute_result"
    },
    {
     "data": {
      "image/png": "[encoded data removed]",
      "text/plain": [
       "<Figure size 640x480 with 1 Axes>"
      ]
     },
     "metadata": {},
     "output_type": "display_data"
    }
   ],
   "source": [
    "df=movie_set[movie_set.index.isin(range(2,100))]\n",
    "A=dt.loc[df['Year']>2000]\n",
    "sns.lineplot(data=A ,x='Certificates',y='Year')"
   ]
  },
  {
   "cell_type": "markdown",
   "id": "d4b56eb8-6173-4b53-8bee-734df3c7c554",
   "metadata": {},
   "source": [
    "# Catplot()"
   ]
  },
  {
   "cell_type": "code",
   "execution_count": 200,
   "id": "3fdd351d-e93a-49f6-a0e1-c84af70f303b",
   "metadata": {},
   "outputs": [
    {
     "data": {
      "image/png": "[encoded data removed]",
      "text/plain": [
       "<Figure size 500x500 with 1 Axes>"
      ]
     },
     "metadata": {},
     "output_type": "display_data"
    }
   ],
   "source": [
    "res = sns.catplot(y=\"MetaScore\", x=\"TimeDuration\", data=dt)\n",
    "plt.show()"
   ]
  },
  {
   "cell_type": "code",
   "execution_count": 214,
   "id": "8bafa116-a8ca-4ecf-9d7b-30c06639c5a4",
   "metadata": {},
   "outputs": [
    {
     "data": {
      "text/plain": [
       "<seaborn.axisgrid.PairGrid at 0x2524b17e350>"
      ]
     },
     "execution_count": 214,
     "metadata": {},
     "output_type": "execute_result"
    },
    {
     "data": {
      "image/png": "[encoded data removed]",
      "text/plain": [
       "<Figure size 500x500 with 6 Axes>"
      ]
     },
     "metadata": {},
     "output_type": "display_data"
    }
   ],
   "source": [
    "dt=movie_set.head(20)\n",
    "sns.pairplot(dt[['IMDb Rating','MetaScore']])"
   ]
  },
  {
   "cell_type": "code",
   "execution_count": 210,
   "id": "56be41dd-19c2-48db-88c5-9e8436facd3b",
   "metadata": {},
   "outputs": [
    {
     "data": {
      "text/html": [
       "<div>\n",
       "<style scoped>\n",
       "    .dataframe tbody tr th:only-of-type {\n",
       "        vertical-align: middle;\n",
       "    }\n",
       "\n",
       "    .dataframe tbody tr th {\n",
       "        vertical-align: top;\n",
       "    }\n",
       "\n",
       "    .dataframe thead th {\n",
       "        text-align: right;\n",
       "    }\n",
       "</style>\n",
       "<table border=\"1\" class=\"dataframe\">\n",
       "  <thead>\n",
       "    <tr style=\"text-align: right;\">\n",
       "      <th></th>\n",
       "      <th>Title</th>\n",
       "      <th>IMDb Rating</th>\n",
       "      <th>Year</th>\n",
       "      <th>Certificates</th>\n",
       "      <th>Genre</th>\n",
       "      <th>Director</th>\n",
       "      <th>Star Cast</th>\n",
       "      <th>MetaScore</th>\n",
       "      <th>Poster-src</th>\n",
       "      <th>Duration (minutes)</th>\n",
       "    </tr>\n",
       "  </thead>\n",
       "  <tbody>\n",
       "    <tr>\n",
       "      <th>0</th>\n",
       "      <td>End of the Spear</td>\n",
       "      <td>6.8</td>\n",
       "      <td>2005</td>\n",
       "      <td>PG-13</td>\n",
       "      <td>Adventure</td>\n",
       "      <td>Jim Hanon</td>\n",
       "      <td>Louie LeonardoChad AllenJack Guzman</td>\n",
       "      <td>45.0</td>\n",
       "      <td>https://m.media-amazon.com/images/M/MV5BMTYxOT...</td>\n",
       "      <td>108.0</td>\n",
       "    </tr>\n",
       "  </tbody>\n",
       "</table>\n",
       "</div>"
      ],
      "text/plain": [
       "              Title  IMDb Rating  Year Certificates      Genre   Director  \\\n",
       "0  End of the Spear          6.8  2005        PG-13  Adventure  Jim Hanon   \n",
       "\n",
       "                             Star Cast  MetaScore  \\\n",
       "0  Louie LeonardoChad AllenJack Guzman       45.0   \n",
       "\n",
       "                                          Poster-src  Duration (minutes)  \n",
       "0  https://m.media-amazon.com/images/M/MV5BMTYxOT...               108.0  "
      ]
     },
     "execution_count": 210,
     "metadata": {},
     "output_type": "execute_result"
    }
   ],
   "source": [
    "movie_set.head(1)"
   ]
  },
  {
   "cell_type": "code",
   "execution_count": 6,
   "id": "68a76059-fa26-43fe-a9ae-a8a07c38ca3f",
   "metadata": {},
   "outputs": [
    {
     "data": {
      "text/plain": [
       "<Axes: >"
      ]
     },
     "execution_count": 6,
     "metadata": {},
     "output_type": "execute_result"
    },
    {
     "data": {
      "image/png": "[encoded data removed]",
      "text/plain": [
       "<Figure size 640x480 with 1 Axes>"
      ]
     },
     "metadata": {},
     "output_type": "display_data"
    }
   ],
   "source": [
    "# check for outliers in the dataset\n",
    "sns.boxplot(movie_set[\"Year\"])"
   ]
  },
  {
   "cell_type": "code",
   "execution_count": 16,
   "id": "ab518686-87a6-4c19-a548-f1e9c249cd38",
   "metadata": {},
   "outputs": [
    {
     "data": {
      "image/png": "[encoded data removed]",
      "text/plain": [
       "<Figure size 640x480 with 1 Axes>"
      ]
     },
     "metadata": {},
     "output_type": "display_data"
    }
   ],
   "source": [
    "res = sns.pointplot(x=movie_set['Year'], y=movie_set['IMDb Rating'])\n",
    "plt.show()"
   ]
  },
  {
   "cell_type": "code",
   "execution_count": 10,
   "id": "72c44742-e4a0-4ef5-8554-986908b7dbdd",
   "metadata": {},
   "outputs": [
    {
     "data": {
      "image/png": "[encoded data removed]",
      "text/plain": [
       "<Figure size 640x480 with 1 Axes>"
      ]
     },
     "metadata": {},
     "output_type": "display_data"
    }
   ],
   "source": [
    "#Violinplot\n",
    "res = sns.violinplot(x=movie_set['Duration (minutes)'])\n",
    "plt.show()"
   ]
  },
  {
   "cell_type": "code",
   "execution_count": 25,
   "id": "5fde648c-b128-4a23-9c8f-7032615ad832",
   "metadata": {},
   "outputs": [
    {
     "data": {
      "image/png": "[encoded data removed]",
      "text/plain": [
       "<Figure size 640x480 with 1 Axes>"
      ]
     },
     "metadata": {},
     "output_type": "display_data"
    }
   ],
   "source": [
    "res = sns.swarmplot(x=\"Duration (minutes)\", y=\"Year\", data=movie_set)\n",
    " \n",
    "plt.show()"
   ]
  },
  {
   "cell_type": "code",
   "execution_count": null,
   "id": "9cd40113-a9ab-44c9-b37f-5daa51a09bdf",
   "metadata": {},
   "outputs": [],
   "source": []
  },
  {
   "cell_type": "code",
   "execution_count": 29,
   "id": "11427c5e-e019-4bd7-8c3c-1b201c83b177",
   "metadata": {},
   "outputs": [
    {
     "data": {
      "image/png": "[encoded data removed]",
      "text/plain": [
       "<Figure size 640x480 with 1 Axes>"
      ]
     },
     "metadata": {},
     "output_type": "display_data"
    }
   ],
   "source": [
    "res = sns.scatterplot(x=\"Certificates\",y=\"Year\", data=movie_set)\n",
    "plt.show()"
   ]
  },
  {
   "cell_type": "code",
   "execution_count": null,
   "id": "b42a4c80-87f0-4061-808b-3b54b8922b34",
   "metadata": {},
   "outputs": [],
   "source": []
  }
 ],
 "metadata": {
  "kernelspec": {
   "display_name": "Python 3 (ipykernel)",
   "language": "python",
   "name": "python3"
  },
  "language_info": {
   "codemirror_mode": {
    "name": "ipython",
    "version": 3
   },
   "file_extension": ".py",
   "mimetype": "text/x-python",
   "name": "python",
   "nbconvert_exporter": "python",
   "pygments_lexer": "ipython3",
   "version": "3.11.7"
  }
 },
 "nbformat": 4,
 "nbformat_minor": 5
}
