{
 "cells": [
  {
   "cell_type": "markdown",
   "id": "4afa724f-13a5-4551-8715-17548b3ae013",
   "metadata": {},
   "source": [
    "# Day-1"
   ]
  },
  {
   "cell_type": "markdown",
   "id": "6c79c483-f2b3-47bb-8219-7393ba750ac2",
   "metadata": {},
   "source": [
    "# Check if a string contains only characters(0-9)"
   ]
  },
  {
   "cell_type": "markdown",
   "id": "38c320b4-79d5-4c41-a214-fafe32124741",
   "metadata": {},
   "source": [
    "# Example1: \"123456\""
   ]
  },
  {
   "cell_type": "code",
   "execution_count": 9,
   "id": "03b05f65-b6f1-483e-8975-0fb9c4e4c285",
   "metadata": {},
   "outputs": [
    {
     "name": "stdout",
     "output_type": "stream",
     "text": [
      "the string contain only digits.\n"
     ]
    }
   ],
   "source": [
    "my_str = \"123456\"\n",
    "if my_str. isdigit():\n",
    "    print(\"the string contain only digits.\")\n",
    "else:\n",
    "    print(\"the string does not contain only digits.\")"
   ]
  },
  {
   "cell_type": "code",
   "execution_count": null,
   "id": "a73e1e07-7a8e-492e-9d5b-37bb39acbd5a",
   "metadata": {},
   "outputs": [],
   "source": []
  },
  {
   "cell_type": "markdown",
   "id": "631c61d8-6da1-4696-b04d-8c2442f1c5a4",
   "metadata": {},
   "source": [
    "# Exampe-2 :  \"Eternatek123\""
   ]
  },
  {
   "cell_type": "code",
   "execution_count": 17,
   "id": "547f9bde-af6b-4d2e-9009-bc1b41b3ea7d",
   "metadata": {},
   "outputs": [
    {
     "name": "stdout",
     "output_type": "stream",
     "text": [
      "The string does not contain only digits.\n"
     ]
    }
   ],
   "source": [
    "str = \"Eternatek123\"\n",
    "if str. isdigit():\n",
    "    print(\"The string contains only digits.\")\n",
    "else:\n",
    "    print(\"The string does not contain only digits.\")"
   ]
  },
  {
   "cell_type": "code",
   "execution_count": null,
   "id": "a5bbe0e5-4627-4a0c-acc3-a233fde7dc1c",
   "metadata": {},
   "outputs": [],
   "source": []
  },
  {
   "cell_type": "markdown",
   "id": "61c7bf7a-c413-4801-a740-d90fad5b1eb8",
   "metadata": {},
   "source": [
    "# Example-3:  \"000143\""
   ]
  },
  {
   "cell_type": "code",
   "execution_count": 20,
   "id": "705e6b36-c44b-4e31-8648-d6d1cdfc2144",
   "metadata": {},
   "outputs": [
    {
     "name": "stdin",
     "output_type": "stream",
     "text": [
      "Enter a string:  000143\n"
     ]
    },
    {
     "name": "stdout",
     "output_type": "stream",
     "text": [
      "The string contains only digit.\n"
     ]
    }
   ],
   "source": [
    "str1 = \"000143\"\n",
    "my_str = input(\"Enter a string: \")\n",
    "if my_str. isdigit():\n",
    "    print(\"The string contains only digit.\")\n",
    "else:\n",
    "    print(\"The string does not contain digits.\")"
   ]
  },
  {
   "cell_type": "code",
   "execution_count": null,
   "id": "9d7b0c99-9d5e-4f70-80f9-664ef6880c12",
   "metadata": {},
   "outputs": [],
   "source": []
  },
  {
   "cell_type": "markdown",
   "id": "419e4638-115a-4a62-9fe8-3f3d88ce64bb",
   "metadata": {},
   "source": [
    "# Example-4:   \"897coders\""
   ]
  },
  {
   "cell_type": "code",
   "execution_count": 22,
   "id": "b9b985c4-8d02-4063-ba48-96e01023ce39",
   "metadata": {},
   "outputs": [
    {
     "name": "stdin",
     "output_type": "stream",
     "text": [
      "Enter a string:  897coders\n"
     ]
    },
    {
     "name": "stdout",
     "output_type": "stream",
     "text": [
      "The string contains both digits and letters.\n"
     ]
    }
   ],
   "source": [
    "str2 = input(\"Enter a string: \")\n",
    "if str2. isdigit():\n",
    "    print(\"The string contains only digits. \")\n",
    "else:\n",
    "    print(\"The string contains both digits and letters.\")"
   ]
  },
  {
   "cell_type": "code",
   "execution_count": null,
   "id": "f2ec56e7-7bad-4aee-bca4-bc586e134489",
   "metadata": {},
   "outputs": [],
   "source": []
  }
 ],
 "metadata": {
  "kernelspec": {
   "display_name": "Python 3 (ipykernel)",
   "language": "python",
   "name": "python3"
  },
  "language_info": {
   "codemirror_mode": {
    "name": "ipython",
    "version": 3
   },
   "file_extension": ".py",
   "mimetype": "text/x-python",
   "name": "python",
   "nbconvert_exporter": "python",
   "pygments_lexer": "ipython3",
   "version": "3.11.7"
  }
 },
 "nbformat": 4,
 "nbformat_minor": 5
}
